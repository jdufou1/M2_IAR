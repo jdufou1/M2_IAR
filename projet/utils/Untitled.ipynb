{
 "cells": [
  {
   "cell_type": "code",
   "execution_count": 1,
   "id": "48d8e0a7-3262-45da-b223-f58440b8f3a4",
   "metadata": {},
   "outputs": [],
   "source": [
    "from CartPoleContinuous import ContinuousCartPoleEnv\n",
    "import numpy as np"
   ]
  },
  {
   "cell_type": "code",
   "execution_count": 2,
   "id": "a36e289d-caf7-42b2-9456-8fe2e62e7090",
   "metadata": {},
   "outputs": [
    {
     "name": "stdout",
     "output_type": "stream",
     "text": [
      "[-0.02034118 -0.02601421 -0.0010031  -0.03378912]\n"
     ]
    },
    {
     "name": "stderr",
     "output_type": "stream",
     "text": [
      "/home/jdufou1/.local/lib/python3.8/site-packages/gym/logger.py:30: UserWarning: \u001b[33mWARN: Box bound precision lowered by casting to float32\u001b[0m\n",
      "  warnings.warn(colorize('%s: %s'%('WARN', msg % args), 'yellow'))\n"
     ]
    }
   ],
   "source": [
    "env = ContinuousCartPoleEnv()\n",
    "state = env.reset()\n",
    "print(state)"
   ]
  },
  {
   "cell_type": "code",
   "execution_count": 8,
   "id": "daec343f-8642-4aa7-a98b-1b986f999f0e",
   "metadata": {},
   "outputs": [
    {
     "name": "stdout",
     "output_type": "stream",
     "text": [
      "Box(-1.0, 1.0, (1,), float32)\n",
      "Box(-3.4028234663852886e+38, 3.4028234663852886e+38, (4,), float32)\n"
     ]
    }
   ],
   "source": [
    "print(env.action_space)\n",
    "print(env.observation_space)"
   ]
  },
  {
   "cell_type": "code",
   "execution_count": 4,
   "id": "8b3e3fb2-9a7d-4f39-94a9-1dfe949233b8",
   "metadata": {},
   "outputs": [
    {
     "name": "stdout",
     "output_type": "stream",
     "text": [
      "[ 0.00382824  0.33195285 -0.01699854 -0.45774981] 1.0 False\n",
      "[ 0.0104673   0.62486985 -0.02615354 -0.90205916] 1.0 False\n",
      "[ 0.0229647   0.91789226 -0.04419472 -1.34913073] 1.0 False\n",
      "[ 0.04132254  1.21108785 -0.07117733 -1.80148371] 1.0 False\n",
      "[ 0.0655443   1.50445438 -0.10720701 -2.26132775] 1.0 False\n",
      "[ 0.09563339  1.79788342 -0.15243356 -2.73040289] 1.0 False\n",
      "[ 0.13159106  2.09111965 -0.20704162 -3.20979901] 1.0 False\n",
      "[ 0.17341345  2.38371677 -0.2712376  -3.69975763] -1.0 True\n"
     ]
    }
   ],
   "source": [
    "done = False\n",
    "state = env.reset()\n",
    "while not done : \n",
    "    new_state,reward,done,_ = env.step(np.array([0.5]))\n",
    "    print(new_state,reward,done)\n",
    "    state = new_state"
   ]
  },
  {
   "cell_type": "code",
   "execution_count": 29,
   "id": "adc8e3d7-948e-4819-908a-5b38d06e1106",
   "metadata": {},
   "outputs": [
    {
     "name": "stdout",
     "output_type": "stream",
     "text": [
      "[5.  5.  1.  4.5]\n",
      "2000\n"
     ]
    }
   ],
   "source": [
    "import matplotlib.pyplot as plt\n",
    "import matplotlib.patches as mpatches\n",
    "import torch\n",
    "import sys\n",
    "import numpy as np\n",
    "\n",
    "sys.path.insert(0, '../')\n",
    "\n",
    "from utils.Tracking import Tracking\n",
    "\n",
    "\n",
    "\n",
    "\n",
    "env = Tracking()\n",
    "env.max_iteration = 2000\n",
    "state = env.reset()\n",
    "l_position = [state]\n",
    "done = False\n",
    "\n",
    "max_iter = 2000\n",
    "nb_iter = 0\n",
    "while not done and nb_iter < max_iter:\n",
    "    new_state, reward, done = env.step([0,0])\n",
    "    state = new_state\n",
    "    nb_iter += 1\n",
    "    l_position.append(new_state)\n",
    "\n",
    "print(l_position[0])\n",
    "list_x_target = [item[2] for item in l_position]\n",
    "list_y_target = [item[3] for item in l_position]\n",
    "print(nb_iter)"
   ]
  },
  {
   "cell_type": "code",
   "execution_count": 30,
   "id": "3c81fcfa-e1c0-4203-9585-404e3d26a282",
   "metadata": {},
   "outputs": [
    {
     "data": {
      "image/png": "[encoded data removed]",
      "text/plain": [
       "<Figure size 432x432 with 1 Axes>"
      ]
     },
     "metadata": {
      "needs_background": "light"
     },
     "output_type": "display_data"
    }
   ],
   "source": [
    "plt.figure(figsize=(6,6))\n",
    "#plt.scatter(list_x_agent,list_y_agent , label=\"agent\")\n",
    "\n",
    "\n",
    "plt.scatter(list_x_target,list_y_target, label='target')\n",
    "rect=mpatches.Rectangle((4,5),5,1, \n",
    "                            fill=False,\n",
    "                            color=\"purple\",\n",
    "                           linewidth=2)\n",
    "                           #facecolor=\"red\")\n",
    "plt.gca().add_patch(rect)\n",
    "plt.xticks([0, 2, 4, 6, 8, 10])\n",
    "plt.yticks([0, 2, 4, 6, 8, 10])\n",
    "plt.xlabel(\"x\")\n",
    "plt.ylabel(\"y\")\n",
    "plt.title(\"Tracking simulation with 2000 timesteps\")\n",
    "plt.legend()\n",
    "plt.show()"
   ]
  },
  {
   "cell_type": "code",
   "execution_count": null,
   "id": "d2ee291e-c465-46ee-ad2b-5a1a0883d0ab",
   "metadata": {},
   "outputs": [],
   "source": []
  }
 ],
 "metadata": {
  "kernelspec": {
   "display_name": "Python 3 (ipykernel)",
   "language": "python",
   "name": "python3"
  },
  "language_info": {
   "codemirror_mode": {
    "name": "ipython",
    "version": 3
   },
   "file_extension": ".py",
   "mimetype": "text/x-python",
   "name": "python",
   "nbconvert_exporter": "python",
   "pygments_lexer": "ipython3",
   "version": "3.8.10"
  }
 },
 "nbformat": 4,
 "nbformat_minor": 5
}
