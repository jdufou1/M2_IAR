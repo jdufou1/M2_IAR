{
 "cells": [
  {
   "cell_type": "markdown",
   "id": "d4469f6d-acaf-4daf-b328-6d2f8bfb20e8",
   "metadata": {},
   "source": [
    "# Test environnement CartPoleContinuous avec CACLA"
   ]
  },
  {
   "cell_type": "markdown",
   "id": "043c9af0-e8bb-440d-843f-5f76f4cd1267",
   "metadata": {},
   "source": [
    "Reproduction de l'environnement de test CartPoleContinuous pour le papier https://dspace.library.uu.nl/bitstream/handle/1874/25514/wiering_07_reinforcementlearning.pdf"
   ]
  },
  {
   "cell_type": "code",
   "execution_count": 9,
   "id": "b131949d-659b-4038-949a-ea57a8fcc562",
   "metadata": {},
   "outputs": [],
   "source": [
    "import matplotlib.pyplot as plt\n",
    "import matplotlib.patches as mpatches\n",
    "import torch\n",
    "import sys\n",
    "import numpy as np\n",
    "\n",
    "sys.path.insert(0, '../')\n",
    "from utils.CartPoleContinuous import ContinuousCartPoleEnv\n",
    "from utils.Critic import CriticNetwork\n",
    "from utils.Actor import ActorNetwork\n",
    "from utils.CACLA import CACLA\n",
    "from utils.CACLAVAR import CACLAVAR\n",
    "\n",
    "from tqdm import tqdm"
   ]
  },
  {
   "cell_type": "markdown",
   "id": "89c4f60a-baca-4737-adff-ff616b032a9e",
   "metadata": {},
   "source": [
    "## hyper paramètres"
   ]
  },
  {
   "cell_type": "code",
   "execution_count": 10,
   "id": "6206be75-ce1d-47f2-9f21-e90e7e26198a",
   "metadata": {},
   "outputs": [],
   "source": [
    "action_space = 1\n",
    "observation_space = 4\n",
    "\n",
    "env = ContinuousCartPoleEnv()\n",
    "actor_network = ActorNetwork(\n",
    "    nb_neurons = 12,\n",
    "    action_space = env.action_space,\n",
    "    observation_space = env.observation_space\n",
    ")\n",
    "\n",
    "critic_network = CriticNetwork(\n",
    "    nb_neurons = 12,\n",
    "    observation_space = env.observation_space\n",
    ")\n",
    "\n",
    "cacla = CACLAVAR(\n",
    "    learning_rate_critic = 0.01,\n",
    "    learning_rate_actor = 0.01,\n",
    "    discount_factor = 0.95,\n",
    "    sigma = 0.3,\n",
    "    nb_episode = 2000,\n",
    "    nb_tests = 5,\n",
    "    test_frequency = 10,\n",
    "    env = env,\n",
    "    actor_network = actor_network,\n",
    "    critic_network = critic_network,\n",
    "    exploration_strategy = \"gaussian\"\n",
    ")"
   ]
  },
  {
   "cell_type": "markdown",
   "id": "4c502036-86e7-4f60-9313-cd94e3c50ad0",
   "metadata": {},
   "source": [
    "## Learning"
   ]
  },
  {
   "cell_type": "code",
   "execution_count": 11,
   "id": "69194816-4b79-4e38-9585-998789fede1c",
   "metadata": {},
   "outputs": [
    {
     "name": "stdout",
     "output_type": "stream",
     "text": [
      "0/2000 - iteration : 9 - rewards value test : 0.7611111111111111 - best value : -10000000000.0\n",
      "10/2000 - iteration : 78 - rewards value test : 0.7214285714285714 - best value : 0.7611111111111111\n",
      "20/2000 - iteration : 148 - rewards value test : 0.7285714285714286 - best value : 0.7611111111111111\n",
      "30/2000 - iteration : 206 - rewards value test : 0.6266666666666667 - best value : 0.7611111111111111\n",
      "40/2000 - iteration : 270 - rewards value test : 0.6952380952380952 - best value : 0.7611111111111111\n",
      "50/2000 - iteration : 352 - rewards value test : 0.7947474747474748 - best value : 0.7611111111111111\n",
      "60/2000 - iteration : 454 - rewards value test : 0.6723809523809524 - best value : 0.7947474747474748\n",
      "70/2000 - iteration : 503 - rewards value test : 0.58 - best value : 0.7947474747474748\n",
      "80/2000 - iteration : 554 - rewards value test : 0.6399999999999999 - best value : 0.7947474747474748\n",
      "90/2000 - iteration : 607 - rewards value test : 0.6399999999999999 - best value : 0.7947474747474748\n",
      "100/2000 - iteration : 655 - rewards value test : 0.58 - best value : 0.7947474747474748\n",
      "110/2000 - iteration : 706 - rewards value test : 0.6 - best value : 0.7947474747474748\n",
      "120/2000 - iteration : 760 - rewards value test : 0.6533333333333332 - best value : 0.7947474747474748\n",
      "130/2000 - iteration : 808 - rewards value test : 0.5 - best value : 0.7947474747474748\n",
      "140/2000 - iteration : 847 - rewards value test : 0.4333333333333333 - best value : 0.7947474747474748\n",
      "150/2000 - iteration : 887 - rewards value test : 0.5 - best value : 0.7947474747474748\n",
      "160/2000 - iteration : 927 - rewards value test : 0.5 - best value : 0.7947474747474748\n",
      "170/2000 - iteration : 972 - rewards value test : 0.5800000000000001 - best value : 0.7947474747474748\n",
      "180/2000 - iteration : 1022 - rewards value test : 0.6 - best value : 0.7947474747474748\n",
      "190/2000 - iteration : 1152 - rewards value test : 0.9032118374937058 - best value : 0.7947474747474748\n",
      "200/2000 - iteration : 1236 - rewards value test : 0.7047619047619048 - best value : 0.9032118374937058\n",
      "210/2000 - iteration : 1294 - rewards value test : 0.6952380952380952 - best value : 0.9032118374937058\n",
      "220/2000 - iteration : 1379 - rewards value test : 0.6666666666666666 - best value : 0.9032118374937058\n",
      "230/2000 - iteration : 1438 - rewards value test : 0.6533333333333332 - best value : 0.9032118374937058\n",
      "240/2000 - iteration : 1528 - rewards value test : 0.816969696969697 - best value : 0.9032118374937058\n",
      "250/2000 - iteration : 1767 - rewards value test : 0.837995337995338 - best value : 0.9032118374937058\n",
      "260/2000 - iteration : 1990 - rewards value test : 0.9400423759247287 - best value : 0.9032118374937058\n",
      "270/2000 - iteration : 2449 - rewards value test : 0.9710806730051814 - best value : 0.9400423759247287\n",
      "280/2000 - iteration : 2925 - rewards value test : 0.9588596820821644 - best value : 0.9710806730051814\n",
      "290/2000 - iteration : 3489 - rewards value test : 0.9687919435979151 - best value : 0.9710806730051814\n",
      "300/2000 - iteration : 4324 - rewards value test : 0.9535972925309887 - best value : 0.9710806730051814\n",
      "310/2000 - iteration : 5454 - rewards value test : 0.9829448873478569 - best value : 0.9710806730051814\n",
      "320/2000 - iteration : 5971 - rewards value test : 0.982528937429022 - best value : 0.9829448873478569\n",
      "330/2000 - iteration : 7270 - rewards value test : 0.9847518663656647 - best value : 0.9829448873478569\n",
      "340/2000 - iteration : 7993 - rewards value test : 0.6761904761904761 - best value : 0.9847518663656647\n",
      "350/2000 - iteration : 8050 - rewards value test : 0.6399999999999999 - best value : 0.9847518663656647\n",
      "360/2000 - iteration : 8109 - rewards value test : 0.7711111111111111 - best value : 0.9847518663656647\n",
      "370/2000 - iteration : 8177 - rewards value test : 0.6533333333333332 - best value : 0.9847518663656647\n",
      "380/2000 - iteration : 8240 - rewards value test : 0.7047619047619047 - best value : 0.9847518663656647\n",
      "390/2000 - iteration : 8642 - rewards value test : 0.8145454545454547 - best value : 0.9847518663656647\n",
      "400/2000 - iteration : 9506 - rewards value test : 0.9658712473966711 - best value : 0.9847518663656647\n",
      "410/2000 - iteration : 10220 - rewards value test : 0.9857242944367034 - best value : 0.9847518663656647\n",
      "420/2000 - iteration : 11147 - rewards value test : 0.9709971025096561 - best value : 0.9857242944367034\n",
      "430/2000 - iteration : 11833 - rewards value test : 0.9633303229086458 - best value : 0.9857242944367034\n",
      "440/2000 - iteration : 12983 - rewards value test : 0.9911592450980622 - best value : 0.9857242944367034\n",
      "450/2000 - iteration : 14086 - rewards value test : 0.9822045911158455 - best value : 0.9911592450980622\n",
      "460/2000 - iteration : 15461 - rewards value test : 0.9699389091300856 - best value : 0.9911592450980622\n",
      "470/2000 - iteration : 16393 - rewards value test : 0.9804441035083433 - best value : 0.9911592450980622\n",
      "480/2000 - iteration : 17584 - rewards value test : 0.9949586024796288 - best value : 0.9911592450980622\n",
      "490/2000 - iteration : 18900 - rewards value test : 0.9685109252273432 - best value : 0.9949586024796288\n",
      "500/2000 - iteration : 20009 - rewards value test : 0.9782319925282896 - best value : 0.9949586024796288\n",
      "510/2000 - iteration : 31406 - rewards value test : 0.8 - best value : 0.9949586024796288\n",
      "520/2000 - iteration : 31765 - rewards value test : 0.9742906882147387 - best value : 0.9949586024796288\n",
      "530/2000 - iteration : 33109 - rewards value test : 0.6 - best value : 0.9949586024796288\n",
      "540/2000 - iteration : 33154 - rewards value test : 0.54 - best value : 0.9949586024796288\n",
      "550/2000 - iteration : 33195 - rewards value test : 0.5 - best value : 0.9949586024796288\n",
      "560/2000 - iteration : 33236 - rewards value test : 0.5 - best value : 0.9949586024796288\n",
      "570/2000 - iteration : 33276 - rewards value test : 0.5 - best value : 0.9949586024796288\n",
      "580/2000 - iteration : 33316 - rewards value test : 0.5 - best value : 0.9949586024796288\n",
      "590/2000 - iteration : 33356 - rewards value test : 0.5 - best value : 0.9949586024796288\n",
      "600/2000 - iteration : 33396 - rewards value test : 0.5 - best value : 0.9949586024796288\n",
      "610/2000 - iteration : 33436 - rewards value test : 0.5 - best value : 0.9949586024796288\n",
      "620/2000 - iteration : 33476 - rewards value test : 0.5 - best value : 0.9949586024796288\n",
      "630/2000 - iteration : 33516 - rewards value test : 0.5 - best value : 0.9949586024796288\n",
      "640/2000 - iteration : 33556 - rewards value test : 0.5 - best value : 0.9949586024796288\n",
      "650/2000 - iteration : 33596 - rewards value test : 0.5 - best value : 0.9949586024796288\n",
      "660/2000 - iteration : 33723 - rewards value test : 0.9750370361345972 - best value : 0.9949586024796288\n",
      "670/2000 - iteration : 34992 - rewards value test : 0.9743375390959927 - best value : 0.9949586024796288\n",
      "680/2000 - iteration : 35116 - rewards value test : 0.970490253089024 - best value : 0.9949586024796288\n",
      "690/2000 - iteration : 36297 - rewards value test : 0.7620879120879122 - best value : 0.9949586024796288\n",
      "700/2000 - iteration : 37399 - rewards value test : 0.9772329759237817 - best value : 0.9949586024796288\n",
      "710/2000 - iteration : 37766 - rewards value test : 0.6666666666666666 - best value : 0.9949586024796288\n",
      "720/2000 - iteration : 37830 - rewards value test : 0.7357142857142858 - best value : 0.9949586024796288\n",
      "730/2000 - iteration : 38614 - rewards value test : 0.990230436794796 - best value : 0.9949586024796288\n",
      "740/2000 - iteration : 39860 - rewards value test : 0.9752783153575798 - best value : 0.9949586024796288\n",
      "750/2000 - iteration : 40767 - rewards value test : 0.9763341578020179 - best value : 0.9949586024796288\n",
      "760/2000 - iteration : 41741 - rewards value test : 0.9740486658066567 - best value : 0.9949586024796288\n",
      "770/2000 - iteration : 42539 - rewards value test : 0.9803357447418263 - best value : 0.9949586024796288\n",
      "780/2000 - iteration : 43603 - rewards value test : 0.9766145792784877 - best value : 0.9949586024796288\n",
      "790/2000 - iteration : 44439 - rewards value test : 0.9764548673646937 - best value : 0.9949586024796288\n",
      "800/2000 - iteration : 45244 - rewards value test : 0.9853406087706734 - best value : 0.9949586024796288\n",
      "810/2000 - iteration : 46278 - rewards value test : 0.9719741531712943 - best value : 0.9949586024796288\n",
      "820/2000 - iteration : 46515 - rewards value test : 0.901775956284153 - best value : 0.9949586024796288\n",
      "830/2000 - iteration : 47188 - rewards value test : 0.9877355718016805 - best value : 0.9949586024796288\n",
      "840/2000 - iteration : 48107 - rewards value test : 0.9714951487841514 - best value : 0.9949586024796288\n",
      "850/2000 - iteration : 49103 - rewards value test : 0.9802657769244331 - best value : 0.9949586024796288\n",
      "860/2000 - iteration : 50124 - rewards value test : 0.6533333333333333 - best value : 0.9949586024796288\n",
      "870/2000 - iteration : 50236 - rewards value test : 0.8507242757242757 - best value : 0.9949586024796288\n",
      "880/2000 - iteration : 50355 - rewards value test : 0.8876775271512114 - best value : 0.9949586024796288\n",
      "890/2000 - iteration : 50518 - rewards value test : 0.8637965955613014 - best value : 0.9949586024796288\n",
      "900/2000 - iteration : 51154 - rewards value test : 0.9787711184605594 - best value : 0.9949586024796288\n",
      "910/2000 - iteration : 52240 - rewards value test : 0.972428061046517 - best value : 0.9949586024796288\n",
      "920/2000 - iteration : 53113 - rewards value test : 0.9758832761441457 - best value : 0.9949586024796288\n",
      "930/2000 - iteration : 54906 - rewards value test : 0.9950789386258025 - best value : 0.9949586024796288\n",
      "940/2000 - iteration : 55991 - rewards value test : 0.9726615098025853 - best value : 0.9950789386258025\n",
      "950/2000 - iteration : 56736 - rewards value test : 0.9840580009736734 - best value : 0.9950789386258025\n",
      "960/2000 - iteration : 57412 - rewards value test : 0.9741008353933072 - best value : 0.9950789386258025\n",
      "970/2000 - iteration : 58332 - rewards value test : 0.9800945099155044 - best value : 0.9950789386258025\n",
      "980/2000 - iteration : 59495 - rewards value test : 0.9799455792125864 - best value : 0.9950789386258025\n",
      "990/2000 - iteration : 60597 - rewards value test : 0.8697241945323787 - best value : 0.9950789386258025\n",
      "1000/2000 - iteration : 60746 - rewards value test : 0.6857142857142857 - best value : 0.9950789386258025\n",
      "1010/2000 - iteration : 60847 - rewards value test : 0.9359938307306729 - best value : 0.9950789386258025\n",
      "1020/2000 - iteration : 61858 - rewards value test : 0.9736643595884102 - best value : 0.9950789386258025\n",
      "1030/2000 - iteration : 62628 - rewards value test : 0.9727424094170669 - best value : 0.9950789386258025\n",
      "1040/2000 - iteration : 63281 - rewards value test : 0.9700986772634048 - best value : 0.9950789386258025\n",
      "1050/2000 - iteration : 63989 - rewards value test : 0.9717393195118031 - best value : 0.9950789386258025\n",
      "1060/2000 - iteration : 64689 - rewards value test : 0.9784867576148797 - best value : 0.9950789386258025\n",
      "1070/2000 - iteration : 65358 - rewards value test : 0.6333333333333334 - best value : 0.9950789386258025\n",
      "1080/2000 - iteration : 65399 - rewards value test : 0.5 - best value : 0.9950789386258025\n",
      "1090/2000 - iteration : 65437 - rewards value test : 0.3333333333333333 - best value : 0.9950789386258025\n",
      "1100/2000 - iteration : 65468 - rewards value test : 0.3333333333333333 - best value : 0.9950789386258025\n",
      "1110/2000 - iteration : 65498 - rewards value test : 0.3333333333333333 - best value : 0.9950789386258025\n",
      "1120/2000 - iteration : 65528 - rewards value test : 0.3333333333333333 - best value : 0.9950789386258025\n",
      "1130/2000 - iteration : 65558 - rewards value test : 0.3333333333333333 - best value : 0.9950789386258025\n",
      "1140/2000 - iteration : 65595 - rewards value test : 0.5 - best value : 0.9950789386258025\n",
      "1150/2000 - iteration : 65863 - rewards value test : 0.9754893104486599 - best value : 0.9950789386258025\n",
      "1160/2000 - iteration : 71965 - rewards value test : 0.985252545867171 - best value : 0.9950789386258025\n",
      "1170/2000 - iteration : 72944 - rewards value test : 0.9725676803401638 - best value : 0.9950789386258025\n",
      "1180/2000 - iteration : 74043 - rewards value test : 0.9174356451877357 - best value : 0.9950789386258025\n",
      "1190/2000 - iteration : 74664 - rewards value test : 0.90145581344666 - best value : 0.9950789386258025\n",
      "1200/2000 - iteration : 74792 - rewards value test : 0.8036363636363637 - best value : 0.9950789386258025\n",
      "1210/2000 - iteration : 74928 - rewards value test : 0.9051378446115288 - best value : 0.9950789386258025\n",
      "1220/2000 - iteration : 75738 - rewards value test : 0.9793743448378706 - best value : 0.9950789386258025\n",
      "1230/2000 - iteration : 76297 - rewards value test : 0.9802072604742833 - best value : 0.9950789386258025\n",
      "1240/2000 - iteration : 77372 - rewards value test : 0.984556976115185 - best value : 0.9950789386258025\n"
     ]
    },
    {
     "ename": "KeyboardInterrupt",
     "evalue": "",
     "output_type": "error",
     "traceback": [
      "\u001b[0;31m---------------------------------------------------------------------------\u001b[0m",
      "\u001b[0;31mKeyboardInterrupt\u001b[0m                         Traceback (most recent call last)",
      "\u001b[0;32m/tmp/ipykernel_14520/4038629652.py\u001b[0m in \u001b[0;36m<module>\u001b[0;34m\u001b[0m\n\u001b[0;32m----> 1\u001b[0;31m \u001b[0mcacla\u001b[0m\u001b[0;34m.\u001b[0m\u001b[0mlearning\u001b[0m\u001b[0;34m(\u001b[0m\u001b[0;34m)\u001b[0m\u001b[0;34m\u001b[0m\u001b[0;34m\u001b[0m\u001b[0m\n\u001b[0m",
      "\u001b[0;32m~/Bureau/M2_ANDROIDE/M2_IAR/projet/tests/../utils/CACLAVAR.py\u001b[0m in \u001b[0;36mlearning\u001b[0;34m(self)\u001b[0m\n\u001b[1;32m    112\u001b[0m                 \u001b[0mrewards_tests\u001b[0m \u001b[0;34m=\u001b[0m \u001b[0mlist\u001b[0m\u001b[0;34m(\u001b[0m\u001b[0;34m)\u001b[0m\u001b[0;34m\u001b[0m\u001b[0;34m\u001b[0m\u001b[0m\n\u001b[1;32m    113\u001b[0m                 \u001b[0;32mfor\u001b[0m \u001b[0mt\u001b[0m \u001b[0;32min\u001b[0m \u001b[0mrange\u001b[0m\u001b[0;34m(\u001b[0m\u001b[0mself\u001b[0m\u001b[0;34m.\u001b[0m\u001b[0mnb_tests\u001b[0m\u001b[0;34m)\u001b[0m \u001b[0;34m:\u001b[0m\u001b[0;34m\u001b[0m\u001b[0;34m\u001b[0m\u001b[0m\n\u001b[0;32m--> 114\u001b[0;31m                     \u001b[0mrewards_tests\u001b[0m\u001b[0;34m.\u001b[0m\u001b[0mappend\u001b[0m\u001b[0;34m(\u001b[0m\u001b[0mself\u001b[0m\u001b[0;34m.\u001b[0m\u001b[0mtest\u001b[0m\u001b[0;34m(\u001b[0m\u001b[0;34m)\u001b[0m\u001b[0;34m)\u001b[0m\u001b[0;34m\u001b[0m\u001b[0;34m\u001b[0m\u001b[0m\n\u001b[0m\u001b[1;32m    115\u001b[0m                 \u001b[0mrewards_tests\u001b[0m \u001b[0;34m=\u001b[0m \u001b[0mnp\u001b[0m\u001b[0;34m.\u001b[0m\u001b[0marray\u001b[0m\u001b[0;34m(\u001b[0m\u001b[0mrewards_tests\u001b[0m\u001b[0;34m)\u001b[0m\u001b[0;34m\u001b[0m\u001b[0;34m\u001b[0m\u001b[0m\n\u001b[1;32m    116\u001b[0m \u001b[0;34m\u001b[0m\u001b[0m\n",
      "\u001b[0;32m~/Bureau/M2_ANDROIDE/M2_IAR/projet/tests/../utils/CACLAVAR.py\u001b[0m in \u001b[0;36mtest\u001b[0;34m(self)\u001b[0m\n\u001b[1;32m    158\u001b[0m         \u001b[0;32mwhile\u001b[0m \u001b[0;32mnot\u001b[0m \u001b[0mdone\u001b[0m \u001b[0;34m:\u001b[0m\u001b[0;34m\u001b[0m\u001b[0;34m\u001b[0m\u001b[0m\n\u001b[1;32m    159\u001b[0m             \u001b[0mstate_t\u001b[0m \u001b[0;34m=\u001b[0m \u001b[0mtorch\u001b[0m\u001b[0;34m.\u001b[0m\u001b[0mas_tensor\u001b[0m\u001b[0;34m(\u001b[0m\u001b[0mstate\u001b[0m \u001b[0;34m,\u001b[0m \u001b[0mdtype\u001b[0m\u001b[0;34m=\u001b[0m\u001b[0mtorch\u001b[0m\u001b[0;34m.\u001b[0m\u001b[0mfloat32\u001b[0m\u001b[0;34m)\u001b[0m\u001b[0;34m\u001b[0m\u001b[0;34m\u001b[0m\u001b[0m\n\u001b[0;32m--> 160\u001b[0;31m             \u001b[0maction\u001b[0m \u001b[0;34m=\u001b[0m  \u001b[0mself\u001b[0m\u001b[0;34m.\u001b[0m\u001b[0mactor_network\u001b[0m\u001b[0;34m(\u001b[0m\u001b[0mstate_t\u001b[0m\u001b[0;34m)\u001b[0m\u001b[0;34m.\u001b[0m\u001b[0mdetach\u001b[0m\u001b[0;34m(\u001b[0m\u001b[0;34m)\u001b[0m\u001b[0;34m.\u001b[0m\u001b[0mnumpy\u001b[0m\u001b[0;34m(\u001b[0m\u001b[0;34m)\u001b[0m\u001b[0;34m\u001b[0m\u001b[0;34m\u001b[0m\u001b[0m\n\u001b[0m\u001b[1;32m    161\u001b[0m             \u001b[0mnew_state\u001b[0m\u001b[0;34m,\u001b[0m \u001b[0mreward\u001b[0m\u001b[0;34m,\u001b[0m \u001b[0mdone\u001b[0m \u001b[0;34m=\u001b[0m \u001b[0mself\u001b[0m\u001b[0;34m.\u001b[0m\u001b[0menv\u001b[0m\u001b[0;34m.\u001b[0m\u001b[0mstep\u001b[0m\u001b[0;34m(\u001b[0m\u001b[0maction\u001b[0m\u001b[0;34m)\u001b[0m\u001b[0;34m\u001b[0m\u001b[0;34m\u001b[0m\u001b[0m\n\u001b[1;32m    162\u001b[0m             \u001b[0mlist_rewards\u001b[0m\u001b[0;34m.\u001b[0m\u001b[0mappend\u001b[0m\u001b[0;34m(\u001b[0m\u001b[0mreward\u001b[0m\u001b[0;34m)\u001b[0m\u001b[0;34m\u001b[0m\u001b[0;34m\u001b[0m\u001b[0m\n",
      "\u001b[0;32m~/.local/lib/python3.8/site-packages/torch/nn/modules/module.py\u001b[0m in \u001b[0;36m_call_impl\u001b[0;34m(self, *input, **kwargs)\u001b[0m\n\u001b[1;32m   1128\u001b[0m         if not (self._backward_hooks or self._forward_hooks or self._forward_pre_hooks or _global_backward_hooks\n\u001b[1;32m   1129\u001b[0m                 or _global_forward_hooks or _global_forward_pre_hooks):\n\u001b[0;32m-> 1130\u001b[0;31m             \u001b[0;32mreturn\u001b[0m \u001b[0mforward_call\u001b[0m\u001b[0;34m(\u001b[0m\u001b[0;34m*\u001b[0m\u001b[0minput\u001b[0m\u001b[0;34m,\u001b[0m \u001b[0;34m**\u001b[0m\u001b[0mkwargs\u001b[0m\u001b[0;34m)\u001b[0m\u001b[0;34m\u001b[0m\u001b[0;34m\u001b[0m\u001b[0m\n\u001b[0m\u001b[1;32m   1131\u001b[0m         \u001b[0;31m# Do not call functions when jit is used\u001b[0m\u001b[0;34m\u001b[0m\u001b[0;34m\u001b[0m\u001b[0;34m\u001b[0m\u001b[0m\n\u001b[1;32m   1132\u001b[0m         \u001b[0mfull_backward_hooks\u001b[0m\u001b[0;34m,\u001b[0m \u001b[0mnon_full_backward_hooks\u001b[0m \u001b[0;34m=\u001b[0m \u001b[0;34m[\u001b[0m\u001b[0;34m]\u001b[0m\u001b[0;34m,\u001b[0m \u001b[0;34m[\u001b[0m\u001b[0;34m]\u001b[0m\u001b[0;34m\u001b[0m\u001b[0;34m\u001b[0m\u001b[0m\n",
      "\u001b[0;32m~/Bureau/M2_ANDROIDE/M2_IAR/projet/tests/../utils/Actor.py\u001b[0m in \u001b[0;36mforward\u001b[0;34m(self, x)\u001b[0m\n\u001b[1;32m     24\u001b[0m \u001b[0;34m\u001b[0m\u001b[0m\n\u001b[1;32m     25\u001b[0m     \u001b[0;32mdef\u001b[0m \u001b[0mforward\u001b[0m\u001b[0;34m(\u001b[0m\u001b[0mself\u001b[0m\u001b[0;34m,\u001b[0m\u001b[0mx\u001b[0m\u001b[0;34m)\u001b[0m \u001b[0;34m:\u001b[0m\u001b[0;34m\u001b[0m\u001b[0;34m\u001b[0m\u001b[0m\n\u001b[0;32m---> 26\u001b[0;31m         \u001b[0;32mreturn\u001b[0m \u001b[0mself\u001b[0m\u001b[0;34m.\u001b[0m\u001b[0mnet\u001b[0m\u001b[0;34m(\u001b[0m\u001b[0mx\u001b[0m\u001b[0;34m)\u001b[0m\u001b[0;34m\u001b[0m\u001b[0;34m\u001b[0m\u001b[0m\n\u001b[0m",
      "\u001b[0;32m~/.local/lib/python3.8/site-packages/torch/nn/modules/module.py\u001b[0m in \u001b[0;36m_call_impl\u001b[0;34m(self, *input, **kwargs)\u001b[0m\n\u001b[1;32m   1128\u001b[0m         if not (self._backward_hooks or self._forward_hooks or self._forward_pre_hooks or _global_backward_hooks\n\u001b[1;32m   1129\u001b[0m                 or _global_forward_hooks or _global_forward_pre_hooks):\n\u001b[0;32m-> 1130\u001b[0;31m             \u001b[0;32mreturn\u001b[0m \u001b[0mforward_call\u001b[0m\u001b[0;34m(\u001b[0m\u001b[0;34m*\u001b[0m\u001b[0minput\u001b[0m\u001b[0;34m,\u001b[0m \u001b[0;34m**\u001b[0m\u001b[0mkwargs\u001b[0m\u001b[0;34m)\u001b[0m\u001b[0;34m\u001b[0m\u001b[0;34m\u001b[0m\u001b[0m\n\u001b[0m\u001b[1;32m   1131\u001b[0m         \u001b[0;31m# Do not call functions when jit is used\u001b[0m\u001b[0;34m\u001b[0m\u001b[0;34m\u001b[0m\u001b[0;34m\u001b[0m\u001b[0m\n\u001b[1;32m   1132\u001b[0m         \u001b[0mfull_backward_hooks\u001b[0m\u001b[0;34m,\u001b[0m \u001b[0mnon_full_backward_hooks\u001b[0m \u001b[0;34m=\u001b[0m \u001b[0;34m[\u001b[0m\u001b[0;34m]\u001b[0m\u001b[0;34m,\u001b[0m \u001b[0;34m[\u001b[0m\u001b[0;34m]\u001b[0m\u001b[0;34m\u001b[0m\u001b[0;34m\u001b[0m\u001b[0m\n",
      "\u001b[0;32m~/.local/lib/python3.8/site-packages/torch/nn/modules/container.py\u001b[0m in \u001b[0;36mforward\u001b[0;34m(self, input)\u001b[0m\n\u001b[1;32m    137\u001b[0m     \u001b[0;32mdef\u001b[0m \u001b[0mforward\u001b[0m\u001b[0;34m(\u001b[0m\u001b[0mself\u001b[0m\u001b[0;34m,\u001b[0m \u001b[0minput\u001b[0m\u001b[0;34m)\u001b[0m\u001b[0;34m:\u001b[0m\u001b[0;34m\u001b[0m\u001b[0;34m\u001b[0m\u001b[0m\n\u001b[1;32m    138\u001b[0m         \u001b[0;32mfor\u001b[0m \u001b[0mmodule\u001b[0m \u001b[0;32min\u001b[0m \u001b[0mself\u001b[0m\u001b[0;34m:\u001b[0m\u001b[0;34m\u001b[0m\u001b[0;34m\u001b[0m\u001b[0m\n\u001b[0;32m--> 139\u001b[0;31m             \u001b[0minput\u001b[0m \u001b[0;34m=\u001b[0m \u001b[0mmodule\u001b[0m\u001b[0;34m(\u001b[0m\u001b[0minput\u001b[0m\u001b[0;34m)\u001b[0m\u001b[0;34m\u001b[0m\u001b[0;34m\u001b[0m\u001b[0m\n\u001b[0m\u001b[1;32m    140\u001b[0m         \u001b[0;32mreturn\u001b[0m \u001b[0minput\u001b[0m\u001b[0;34m\u001b[0m\u001b[0;34m\u001b[0m\u001b[0m\n\u001b[1;32m    141\u001b[0m \u001b[0;34m\u001b[0m\u001b[0m\n",
      "\u001b[0;32m~/.local/lib/python3.8/site-packages/torch/nn/modules/module.py\u001b[0m in \u001b[0;36m_call_impl\u001b[0;34m(self, *input, **kwargs)\u001b[0m\n\u001b[1;32m   1128\u001b[0m         if not (self._backward_hooks or self._forward_hooks or self._forward_pre_hooks or _global_backward_hooks\n\u001b[1;32m   1129\u001b[0m                 or _global_forward_hooks or _global_forward_pre_hooks):\n\u001b[0;32m-> 1130\u001b[0;31m             \u001b[0;32mreturn\u001b[0m \u001b[0mforward_call\u001b[0m\u001b[0;34m(\u001b[0m\u001b[0;34m*\u001b[0m\u001b[0minput\u001b[0m\u001b[0;34m,\u001b[0m \u001b[0;34m**\u001b[0m\u001b[0mkwargs\u001b[0m\u001b[0;34m)\u001b[0m\u001b[0;34m\u001b[0m\u001b[0;34m\u001b[0m\u001b[0m\n\u001b[0m\u001b[1;32m   1131\u001b[0m         \u001b[0;31m# Do not call functions when jit is used\u001b[0m\u001b[0;34m\u001b[0m\u001b[0;34m\u001b[0m\u001b[0;34m\u001b[0m\u001b[0m\n\u001b[1;32m   1132\u001b[0m         \u001b[0mfull_backward_hooks\u001b[0m\u001b[0;34m,\u001b[0m \u001b[0mnon_full_backward_hooks\u001b[0m \u001b[0;34m=\u001b[0m \u001b[0;34m[\u001b[0m\u001b[0;34m]\u001b[0m\u001b[0;34m,\u001b[0m \u001b[0;34m[\u001b[0m\u001b[0;34m]\u001b[0m\u001b[0;34m\u001b[0m\u001b[0;34m\u001b[0m\u001b[0m\n",
      "\u001b[0;32m~/.local/lib/python3.8/site-packages/torch/nn/modules/activation.py\u001b[0m in \u001b[0;36mforward\u001b[0;34m(self, input)\u001b[0m\n\u001b[1;32m    288\u001b[0m \u001b[0;34m\u001b[0m\u001b[0m\n\u001b[1;32m    289\u001b[0m     \u001b[0;32mdef\u001b[0m \u001b[0mforward\u001b[0m\u001b[0;34m(\u001b[0m\u001b[0mself\u001b[0m\u001b[0;34m,\u001b[0m \u001b[0minput\u001b[0m\u001b[0;34m:\u001b[0m \u001b[0mTensor\u001b[0m\u001b[0;34m)\u001b[0m \u001b[0;34m->\u001b[0m \u001b[0mTensor\u001b[0m\u001b[0;34m:\u001b[0m\u001b[0;34m\u001b[0m\u001b[0;34m\u001b[0m\u001b[0m\n\u001b[0;32m--> 290\u001b[0;31m         \u001b[0;32mreturn\u001b[0m \u001b[0mtorch\u001b[0m\u001b[0;34m.\u001b[0m\u001b[0msigmoid\u001b[0m\u001b[0;34m(\u001b[0m\u001b[0minput\u001b[0m\u001b[0;34m)\u001b[0m\u001b[0;34m\u001b[0m\u001b[0;34m\u001b[0m\u001b[0m\n\u001b[0m\u001b[1;32m    291\u001b[0m \u001b[0;34m\u001b[0m\u001b[0m\n\u001b[1;32m    292\u001b[0m \u001b[0;34m\u001b[0m\u001b[0m\n",
      "\u001b[0;31mKeyboardInterrupt\u001b[0m: "
     ]
    }
   ],
   "source": [
    "cacla.learning()"
   ]
  },
  {
   "cell_type": "markdown",
   "id": "d6db13ec-4437-488e-a620-ce4ead8cf1fc",
   "metadata": {},
   "source": [
    "## Affichage des rewards"
   ]
  },
  {
   "cell_type": "code",
   "execution_count": 12,
   "id": "09cc43a4-a6d6-4653-b0fd-8f9c3de0511f",
   "metadata": {},
   "outputs": [
    {
     "ename": "ValueError",
     "evalue": "x and y must have same first dimension, but have shapes (200,) and (125,)",
     "output_type": "error",
     "traceback": [
      "\u001b[0;31m---------------------------------------------------------------------------\u001b[0m",
      "\u001b[0;31mValueError\u001b[0m                                Traceback (most recent call last)",
      "\u001b[0;32m/tmp/ipykernel_14520/1315794657.py\u001b[0m in \u001b[0;36m<module>\u001b[0;34m\u001b[0m\n\u001b[1;32m      2\u001b[0m \u001b[0msup\u001b[0m \u001b[0;34m=\u001b[0m \u001b[0mnp\u001b[0m\u001b[0;34m.\u001b[0m\u001b[0marray\u001b[0m\u001b[0;34m(\u001b[0m\u001b[0mcacla\u001b[0m\u001b[0;34m.\u001b[0m\u001b[0mlist_rewards_mean\u001b[0m\u001b[0;34m)\u001b[0m \u001b[0;34m+\u001b[0m \u001b[0mnp\u001b[0m\u001b[0;34m.\u001b[0m\u001b[0marray\u001b[0m\u001b[0;34m(\u001b[0m\u001b[0mcacla\u001b[0m\u001b[0;34m.\u001b[0m\u001b[0mlist_rewards_std\u001b[0m\u001b[0;34m)\u001b[0m\u001b[0;34m\u001b[0m\u001b[0;34m\u001b[0m\u001b[0m\n\u001b[1;32m      3\u001b[0m \u001b[0mplt\u001b[0m\u001b[0;34m.\u001b[0m\u001b[0mfigure\u001b[0m\u001b[0;34m(\u001b[0m\u001b[0mfigsize\u001b[0m\u001b[0;34m=\u001b[0m\u001b[0;34m(\u001b[0m\u001b[0;36m10\u001b[0m\u001b[0;34m,\u001b[0m\u001b[0;36m7\u001b[0m\u001b[0;34m)\u001b[0m\u001b[0;34m)\u001b[0m\u001b[0;34m\u001b[0m\u001b[0;34m\u001b[0m\u001b[0m\n\u001b[0;32m----> 4\u001b[0;31m \u001b[0mplt\u001b[0m\u001b[0;34m.\u001b[0m\u001b[0mplot\u001b[0m\u001b[0;34m(\u001b[0m\u001b[0mnp\u001b[0m\u001b[0;34m.\u001b[0m\u001b[0marange\u001b[0m\u001b[0;34m(\u001b[0m\u001b[0;36m0\u001b[0m\u001b[0;34m,\u001b[0m\u001b[0mcacla\u001b[0m\u001b[0;34m.\u001b[0m\u001b[0mnb_episode\u001b[0m\u001b[0;34m,\u001b[0m\u001b[0mcacla\u001b[0m\u001b[0;34m.\u001b[0m\u001b[0mtest_frequency\u001b[0m\u001b[0;34m)\u001b[0m\u001b[0;34m,\u001b[0m\u001b[0mcacla\u001b[0m\u001b[0;34m.\u001b[0m\u001b[0mlist_rewards_mean\u001b[0m\u001b[0;34m,\u001b[0m \u001b[0mc\u001b[0m\u001b[0;34m=\u001b[0m \u001b[0;34m'r'\u001b[0m\u001b[0;34m,\u001b[0m\u001b[0mlabel\u001b[0m \u001b[0;34m=\u001b[0m \u001b[0;34m'rewards mean'\u001b[0m\u001b[0;34m)\u001b[0m\u001b[0;34m\u001b[0m\u001b[0;34m\u001b[0m\u001b[0m\n\u001b[0m\u001b[1;32m      5\u001b[0m \u001b[0mplt\u001b[0m\u001b[0;34m.\u001b[0m\u001b[0mfill_between\u001b[0m\u001b[0;34m(\u001b[0m\u001b[0mnp\u001b[0m\u001b[0;34m.\u001b[0m\u001b[0marange\u001b[0m\u001b[0;34m(\u001b[0m\u001b[0;36m0\u001b[0m\u001b[0;34m,\u001b[0m\u001b[0mcacla\u001b[0m\u001b[0;34m.\u001b[0m\u001b[0mnb_episode\u001b[0m\u001b[0;34m,\u001b[0m\u001b[0mcacla\u001b[0m\u001b[0;34m.\u001b[0m\u001b[0mtest_frequency\u001b[0m\u001b[0;34m)\u001b[0m\u001b[0;34m,\u001b[0m\u001b[0minf\u001b[0m\u001b[0;34m,\u001b[0m\u001b[0msup\u001b[0m \u001b[0;34m,\u001b[0m \u001b[0mcolor\u001b[0m\u001b[0;34m=\u001b[0m\u001b[0;34m\"mistyrose\"\u001b[0m\u001b[0;34m,\u001b[0m \u001b[0mlabel\u001b[0m\u001b[0;34m=\u001b[0m\u001b[0;34m\"rewards std\"\u001b[0m\u001b[0;34m)\u001b[0m\u001b[0;34m\u001b[0m\u001b[0;34m\u001b[0m\u001b[0m\n\u001b[1;32m      6\u001b[0m \u001b[0mplt\u001b[0m\u001b[0;34m.\u001b[0m\u001b[0mscatter\u001b[0m\u001b[0;34m(\u001b[0m\u001b[0mcacla\u001b[0m\u001b[0;34m.\u001b[0m\u001b[0mlist_rewards_mean\u001b[0m\u001b[0;34m.\u001b[0m\u001b[0mindex\u001b[0m\u001b[0;34m(\u001b[0m\u001b[0mmax\u001b[0m\u001b[0;34m(\u001b[0m\u001b[0mcacla\u001b[0m\u001b[0;34m.\u001b[0m\u001b[0mlist_rewards_mean\u001b[0m\u001b[0;34m)\u001b[0m\u001b[0;34m)\u001b[0m\u001b[0;34m*\u001b[0m\u001b[0mcacla\u001b[0m\u001b[0;34m.\u001b[0m\u001b[0mtest_frequency\u001b[0m\u001b[0;34m,\u001b[0m\u001b[0mmax\u001b[0m\u001b[0;34m(\u001b[0m\u001b[0mcacla\u001b[0m\u001b[0;34m.\u001b[0m\u001b[0mlist_rewards_mean\u001b[0m\u001b[0;34m)\u001b[0m\u001b[0;34m,\u001b[0m\u001b[0mlabel\u001b[0m\u001b[0;34m=\u001b[0m\u001b[0;34m\"best reward : \"\u001b[0m\u001b[0;34m+\u001b[0m\u001b[0mstr\u001b[0m\u001b[0;34m(\u001b[0m\u001b[0mround\u001b[0m\u001b[0;34m(\u001b[0m\u001b[0mcacla\u001b[0m\u001b[0;34m.\u001b[0m\u001b[0mbest_value\u001b[0m\u001b[0;34m,\u001b[0m\u001b[0;36m3\u001b[0m\u001b[0;34m)\u001b[0m\u001b[0;34m)\u001b[0m \u001b[0;34m)\u001b[0m\u001b[0;34m\u001b[0m\u001b[0;34m\u001b[0m\u001b[0m\n",
      "\u001b[0;32m~/.local/lib/python3.8/site-packages/matplotlib/pyplot.py\u001b[0m in \u001b[0;36mplot\u001b[0;34m(scalex, scaley, data, *args, **kwargs)\u001b[0m\n\u001b[1;32m   3017\u001b[0m \u001b[0;34m@\u001b[0m\u001b[0m_copy_docstring_and_deprecators\u001b[0m\u001b[0;34m(\u001b[0m\u001b[0mAxes\u001b[0m\u001b[0;34m.\u001b[0m\u001b[0mplot\u001b[0m\u001b[0;34m)\u001b[0m\u001b[0;34m\u001b[0m\u001b[0;34m\u001b[0m\u001b[0m\n\u001b[1;32m   3018\u001b[0m \u001b[0;32mdef\u001b[0m \u001b[0mplot\u001b[0m\u001b[0;34m(\u001b[0m\u001b[0;34m*\u001b[0m\u001b[0margs\u001b[0m\u001b[0;34m,\u001b[0m \u001b[0mscalex\u001b[0m\u001b[0;34m=\u001b[0m\u001b[0;32mTrue\u001b[0m\u001b[0;34m,\u001b[0m \u001b[0mscaley\u001b[0m\u001b[0;34m=\u001b[0m\u001b[0;32mTrue\u001b[0m\u001b[0;34m,\u001b[0m \u001b[0mdata\u001b[0m\u001b[0;34m=\u001b[0m\u001b[0;32mNone\u001b[0m\u001b[0;34m,\u001b[0m \u001b[0;34m**\u001b[0m\u001b[0mkwargs\u001b[0m\u001b[0;34m)\u001b[0m\u001b[0;34m:\u001b[0m\u001b[0;34m\u001b[0m\u001b[0;34m\u001b[0m\u001b[0m\n\u001b[0;32m-> 3019\u001b[0;31m     return gca().plot(\n\u001b[0m\u001b[1;32m   3020\u001b[0m         \u001b[0;34m*\u001b[0m\u001b[0margs\u001b[0m\u001b[0;34m,\u001b[0m \u001b[0mscalex\u001b[0m\u001b[0;34m=\u001b[0m\u001b[0mscalex\u001b[0m\u001b[0;34m,\u001b[0m \u001b[0mscaley\u001b[0m\u001b[0;34m=\u001b[0m\u001b[0mscaley\u001b[0m\u001b[0;34m,\u001b[0m\u001b[0;34m\u001b[0m\u001b[0;34m\u001b[0m\u001b[0m\n\u001b[1;32m   3021\u001b[0m         **({\"data\": data} if data is not None else {}), **kwargs)\n",
      "\u001b[0;32m~/.local/lib/python3.8/site-packages/matplotlib/axes/_axes.py\u001b[0m in \u001b[0;36mplot\u001b[0;34m(self, scalex, scaley, data, *args, **kwargs)\u001b[0m\n\u001b[1;32m   1603\u001b[0m         \"\"\"\n\u001b[1;32m   1604\u001b[0m         \u001b[0mkwargs\u001b[0m \u001b[0;34m=\u001b[0m \u001b[0mcbook\u001b[0m\u001b[0;34m.\u001b[0m\u001b[0mnormalize_kwargs\u001b[0m\u001b[0;34m(\u001b[0m\u001b[0mkwargs\u001b[0m\u001b[0;34m,\u001b[0m \u001b[0mmlines\u001b[0m\u001b[0;34m.\u001b[0m\u001b[0mLine2D\u001b[0m\u001b[0;34m)\u001b[0m\u001b[0;34m\u001b[0m\u001b[0;34m\u001b[0m\u001b[0m\n\u001b[0;32m-> 1605\u001b[0;31m         \u001b[0mlines\u001b[0m \u001b[0;34m=\u001b[0m \u001b[0;34m[\u001b[0m\u001b[0;34m*\u001b[0m\u001b[0mself\u001b[0m\u001b[0;34m.\u001b[0m\u001b[0m_get_lines\u001b[0m\u001b[0;34m(\u001b[0m\u001b[0;34m*\u001b[0m\u001b[0margs\u001b[0m\u001b[0;34m,\u001b[0m \u001b[0mdata\u001b[0m\u001b[0;34m=\u001b[0m\u001b[0mdata\u001b[0m\u001b[0;34m,\u001b[0m \u001b[0;34m**\u001b[0m\u001b[0mkwargs\u001b[0m\u001b[0;34m)\u001b[0m\u001b[0;34m]\u001b[0m\u001b[0;34m\u001b[0m\u001b[0;34m\u001b[0m\u001b[0m\n\u001b[0m\u001b[1;32m   1606\u001b[0m         \u001b[0;32mfor\u001b[0m \u001b[0mline\u001b[0m \u001b[0;32min\u001b[0m \u001b[0mlines\u001b[0m\u001b[0;34m:\u001b[0m\u001b[0;34m\u001b[0m\u001b[0;34m\u001b[0m\u001b[0m\n\u001b[1;32m   1607\u001b[0m             \u001b[0mself\u001b[0m\u001b[0;34m.\u001b[0m\u001b[0madd_line\u001b[0m\u001b[0;34m(\u001b[0m\u001b[0mline\u001b[0m\u001b[0;34m)\u001b[0m\u001b[0;34m\u001b[0m\u001b[0;34m\u001b[0m\u001b[0m\n",
      "\u001b[0;32m~/.local/lib/python3.8/site-packages/matplotlib/axes/_base.py\u001b[0m in \u001b[0;36m__call__\u001b[0;34m(self, data, *args, **kwargs)\u001b[0m\n\u001b[1;32m    313\u001b[0m                 \u001b[0mthis\u001b[0m \u001b[0;34m+=\u001b[0m \u001b[0margs\u001b[0m\u001b[0;34m[\u001b[0m\u001b[0;36m0\u001b[0m\u001b[0;34m]\u001b[0m\u001b[0;34m,\u001b[0m\u001b[0;34m\u001b[0m\u001b[0;34m\u001b[0m\u001b[0m\n\u001b[1;32m    314\u001b[0m                 \u001b[0margs\u001b[0m \u001b[0;34m=\u001b[0m \u001b[0margs\u001b[0m\u001b[0;34m[\u001b[0m\u001b[0;36m1\u001b[0m\u001b[0;34m:\u001b[0m\u001b[0;34m]\u001b[0m\u001b[0;34m\u001b[0m\u001b[0;34m\u001b[0m\u001b[0m\n\u001b[0;32m--> 315\u001b[0;31m             \u001b[0;32myield\u001b[0m \u001b[0;32mfrom\u001b[0m \u001b[0mself\u001b[0m\u001b[0;34m.\u001b[0m\u001b[0m_plot_args\u001b[0m\u001b[0;34m(\u001b[0m\u001b[0mthis\u001b[0m\u001b[0;34m,\u001b[0m \u001b[0mkwargs\u001b[0m\u001b[0;34m)\u001b[0m\u001b[0;34m\u001b[0m\u001b[0;34m\u001b[0m\u001b[0m\n\u001b[0m\u001b[1;32m    316\u001b[0m \u001b[0;34m\u001b[0m\u001b[0m\n\u001b[1;32m    317\u001b[0m     \u001b[0;32mdef\u001b[0m \u001b[0mget_next_color\u001b[0m\u001b[0;34m(\u001b[0m\u001b[0mself\u001b[0m\u001b[0;34m)\u001b[0m\u001b[0;34m:\u001b[0m\u001b[0;34m\u001b[0m\u001b[0;34m\u001b[0m\u001b[0m\n",
      "\u001b[0;32m~/.local/lib/python3.8/site-packages/matplotlib/axes/_base.py\u001b[0m in \u001b[0;36m_plot_args\u001b[0;34m(self, tup, kwargs, return_kwargs)\u001b[0m\n\u001b[1;32m    499\u001b[0m \u001b[0;34m\u001b[0m\u001b[0m\n\u001b[1;32m    500\u001b[0m         \u001b[0;32mif\u001b[0m \u001b[0mx\u001b[0m\u001b[0;34m.\u001b[0m\u001b[0mshape\u001b[0m\u001b[0;34m[\u001b[0m\u001b[0;36m0\u001b[0m\u001b[0;34m]\u001b[0m \u001b[0;34m!=\u001b[0m \u001b[0my\u001b[0m\u001b[0;34m.\u001b[0m\u001b[0mshape\u001b[0m\u001b[0;34m[\u001b[0m\u001b[0;36m0\u001b[0m\u001b[0;34m]\u001b[0m\u001b[0;34m:\u001b[0m\u001b[0;34m\u001b[0m\u001b[0;34m\u001b[0m\u001b[0m\n\u001b[0;32m--> 501\u001b[0;31m             raise ValueError(f\"x and y must have same first dimension, but \"\n\u001b[0m\u001b[1;32m    502\u001b[0m                              f\"have shapes {x.shape} and {y.shape}\")\n\u001b[1;32m    503\u001b[0m         \u001b[0;32mif\u001b[0m \u001b[0mx\u001b[0m\u001b[0;34m.\u001b[0m\u001b[0mndim\u001b[0m \u001b[0;34m>\u001b[0m \u001b[0;36m2\u001b[0m \u001b[0;32mor\u001b[0m \u001b[0my\u001b[0m\u001b[0;34m.\u001b[0m\u001b[0mndim\u001b[0m \u001b[0;34m>\u001b[0m \u001b[0;36m2\u001b[0m\u001b[0;34m:\u001b[0m\u001b[0;34m\u001b[0m\u001b[0;34m\u001b[0m\u001b[0m\n",
      "\u001b[0;31mValueError\u001b[0m: x and y must have same first dimension, but have shapes (200,) and (125,)"
     ]
    },
    {
     "data": {
      "image/png": "[encoded data removed]",
      "text/plain": [
       "<Figure size 720x504 with 1 Axes>"
      ]
     },
     "metadata": {
      "needs_background": "light"
     },
     "output_type": "display_data"
    }
   ],
   "source": [
    "inf = np.array(cacla.list_rewards_mean) - np.array(cacla.list_rewards_std)\n",
    "sup = np.array(cacla.list_rewards_mean) + np.array(cacla.list_rewards_std)\n",
    "plt.figure(figsize=(10,7))\n",
    "plt.plot(np.arange(0,cacla.nb_episode,cacla.test_frequency),cacla.list_rewards_mean, c= 'r',label = 'rewards mean')\n",
    "plt.fill_between(np.arange(0,cacla.nb_episode,cacla.test_frequency),inf,sup , color=\"mistyrose\", label=\"rewards std\")\n",
    "plt.scatter(cacla.list_rewards_mean.index(max(cacla.list_rewards_mean))*cacla.test_frequency,max(cacla.list_rewards_mean),label=\"best reward : \"+str(round(cacla.best_value,3)) )\n",
    "plt.legend()\n",
    "plt.xlabel('episode')\n",
    "plt.ylabel('reward')\n",
    "plt.title('Continuous Actor Critic (CACLA) - CartPoleContinuous - Rewards')\n",
    "plt.show()"
   ]
  },
  {
   "cell_type": "markdown",
   "id": "2bc86eb9-63b4-4a46-bcf5-794ac960c8fa",
   "metadata": {},
   "source": [
    "## Démonstration de la simulation "
   ]
  },
  {
   "cell_type": "code",
   "execution_count": 14,
   "id": "50712be6-e544-4a65-8ca4-5e56a877ca56",
   "metadata": {},
   "outputs": [
    {
     "name": "stdout",
     "output_type": "stream",
     "text": [
      "rewards cumulated : 563.0 and number iteration : 565\n"
     ]
    }
   ],
   "source": [
    "env = ContinuousCartPoleEnv()\n",
    "state = env.reset()\n",
    "done = False\n",
    "i = 0\n",
    "cum_sum = 0.0\n",
    "while not done :\n",
    "    state_t = torch.as_tensor(state , dtype=torch.float32)\n",
    "    action =  cacla.best_model(state_t).detach().numpy()\n",
    "    new_state,reward,done = env.step(action)\n",
    "    env.render()\n",
    "    state = new_state\n",
    "    cum_sum += reward\n",
    "    i += 1\n",
    "print(f\"rewards cumulated : {cum_sum} and number iteration : {i}\")\n",
    "env.close()"
   ]
  },
  {
   "cell_type": "code",
   "execution_count": 6,
   "id": "b8361f0f-0dba-4cd2-ae61-25c8f89fb78a",
   "metadata": {},
   "outputs": [],
   "source": []
  },
  {
   "cell_type": "code",
   "execution_count": null,
   "id": "1527a1af-49e3-43f1-b0a2-d31fa64b119c",
   "metadata": {},
   "outputs": [],
   "source": []
  }
 ],
 "metadata": {
  "kernelspec": {
   "display_name": "Python 3 (ipykernel)",
   "language": "python",
   "name": "python3"
  },
  "language_info": {
   "codemirror_mode": {
    "name": "ipython",
    "version": 3
   },
   "file_extension": ".py",
   "mimetype": "text/x-python",
   "name": "python",
   "nbconvert_exporter": "python",
   "pygments_lexer": "ipython3",
   "version": "3.8.10"
  }
 },
 "nbformat": 4,
 "nbformat_minor": 5
}
