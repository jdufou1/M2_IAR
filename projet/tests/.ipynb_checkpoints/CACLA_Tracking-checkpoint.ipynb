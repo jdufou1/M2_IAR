{
 "cells": [
  {
   "cell_type": "markdown",
   "id": "279befaa-6225-4e13-a3b1-788d47d7c6f0",
   "metadata": {},
   "source": [
    "# Test environnement Tracking avec CACLA"
   ]
  },
  {
   "cell_type": "markdown",
   "id": "fe2b7e43-88c7-465e-a1e0-418b27d54346",
   "metadata": {},
   "source": [
    "Reproduction de l'environnement de test pour le papier https://dspace.library.uu.nl/bitstream/handle/1874/25514/wiering_07_reinforcementlearning.pdf"
   ]
  },
  {
   "cell_type": "code",
   "execution_count": 7,
   "id": "b3f92839-0049-44bd-a903-cb55fb329d7e",
   "metadata": {},
   "outputs": [],
   "source": [
    "import matplotlib.pyplot as plt\n",
    "import matplotlib.patches as mpatches\n",
    "import torch\n",
    "import sys\n",
    "\n",
    "sys.path.insert(0, '../')\n",
    "from utils.Tracking import Tracking\n",
    "from utils.Critic import CriticNetwork\n",
    "from utils.Actor import ActorNetwork\n",
    "from utils.CACLA import CACLA\n",
    "\n",
    "from tqdm import tqdm"
   ]
  },
  {
   "cell_type": "markdown",
   "id": "d19f3746-9b77-4fc0-a76f-e098c9ba782d",
   "metadata": {},
   "source": [
    "## hyper paramètres"
   ]
  },
  {
   "cell_type": "code",
   "execution_count": 8,
   "id": "f2c02b06-2a74-4de3-8146-7facc2ba8915",
   "metadata": {},
   "outputs": [],
   "source": [
    "env = Tracking()\n",
    "actor_network = ActorNetwork(\n",
    "    nb_neurons = 12,\n",
    "    action_space = env.action_space,\n",
    "    observation_space = env.observation_space\n",
    ")\n",
    "\n",
    "critic_network = CriticNetwork(\n",
    "    nb_neurons = 12,\n",
    "    observation_space = env.observation_space\n",
    ")\n",
    "\n",
    "cacla = CACLA(\n",
    "    learning_rate_critic = 0.01,\n",
    "    learning_rate_actor = 0.01,\n",
    "    discount_factor = 0.95,\n",
    "    sigma = 0.1,\n",
    "    nb_episode = 500,\n",
    "    test_frequency = 10,\n",
    "    env = env,\n",
    "    actor_network = actor_network,\n",
    "    critic_network = critic_network,\n",
    ")"
   ]
  },
  {
   "cell_type": "markdown",
   "id": "1b3f9540-05ff-407f-bb1d-07d085940f4e",
   "metadata": {},
   "source": [
    "## Apprentissage"
   ]
  },
  {
   "cell_type": "code",
   "execution_count": 9,
   "id": "2760a785-d04e-47a7-91e8-e289dae4bea9",
   "metadata": {},
   "outputs": [
    {
     "name": "stdout",
     "output_type": "stream",
     "text": [
      "0/500 - iteration : 300 - rewards value test : -48.48117255335074 - best value : -10000000000.0\n",
      "10/500 - iteration : 3300 - rewards value test : -42.22571859966178 - best value : -48.48117255335074\n",
      "20/500 - iteration : 6300 - rewards value test : -48.51296955014787 - best value : -42.22571859966178\n",
      "30/500 - iteration : 9300 - rewards value test : -48.42719972913964 - best value : -42.22571859966178\n",
      "40/500 - iteration : 12300 - rewards value test : -48.43291775213413 - best value : -42.22571859966178\n",
      "50/500 - iteration : 15007 - rewards value test : -5.961033388545808 - best value : -42.22571859966178\n",
      "60/500 - iteration : 15077 - rewards value test : -5.998391302159066 - best value : -5.961033388545808\n",
      "70/500 - iteration : 15147 - rewards value test : -6.042896509910385 - best value : -5.961033388545808\n",
      "80/500 - iteration : 15217 - rewards value test : -5.845871329462158 - best value : -5.961033388545808\n",
      "90/500 - iteration : 15580 - rewards value test : -6.108318918180568 - best value : -5.845871329462158\n",
      "100/500 - iteration : 15650 - rewards value test : -6.076412458567089 - best value : -5.845871329462158\n",
      "110/500 - iteration : 15720 - rewards value test : -5.947421566696093 - best value : -5.845871329462158\n",
      "120/500 - iteration : 15790 - rewards value test : -36.20542120054207 - best value : -5.845871329462158\n",
      "130/500 - iteration : 18790 - rewards value test : -36.21777638799694 - best value : -5.845871329462158\n",
      "140/500 - iteration : 21497 - rewards value test : -5.878232041448626 - best value : -5.845871329462158\n",
      "150/500 - iteration : 21567 - rewards value test : -5.924170450896115 - best value : -5.845871329462158\n",
      "160/500 - iteration : 21637 - rewards value test : -5.910609559487063 - best value : -5.845871329462158\n",
      "170/500 - iteration : 21707 - rewards value test : -5.981259900511503 - best value : -5.845871329462158\n",
      "180/500 - iteration : 21777 - rewards value test : -5.979296725058281 - best value : -5.845871329462158\n",
      "190/500 - iteration : 21847 - rewards value test : -5.917910068240202 - best value : -5.845871329462158\n",
      "200/500 - iteration : 21917 - rewards value test : -5.899555785076086 - best value : -5.845871329462158\n",
      "210/500 - iteration : 21987 - rewards value test : -6.033639736820635 - best value : -5.845871329462158\n",
      "220/500 - iteration : 22057 - rewards value test : -6.072479890442303 - best value : -5.845871329462158\n",
      "230/500 - iteration : 22127 - rewards value test : -6.055465300204932 - best value : -5.845871329462158\n",
      "240/500 - iteration : 22197 - rewards value test : -6.140161932795316 - best value : -5.845871329462158\n",
      "250/500 - iteration : 22267 - rewards value test : -6.136998504739218 - best value : -5.845871329462158\n",
      "260/500 - iteration : 22630 - rewards value test : -31.14848093453434 - best value : -5.845871329462158\n",
      "270/500 - iteration : 22993 - rewards value test : -6.109440502386358 - best value : -5.845871329462158\n",
      "280/500 - iteration : 23063 - rewards value test : -6.084364440429408 - best value : -5.845871329462158\n",
      "290/500 - iteration : 23133 - rewards value test : -6.058519463000656 - best value : -5.845871329462158\n",
      "300/500 - iteration : 23203 - rewards value test : -6.241604760877658 - best value : -5.845871329462158\n",
      "310/500 - iteration : 23273 - rewards value test : -6.159165417993877 - best value : -5.845871329462158\n",
      "320/500 - iteration : 23343 - rewards value test : -6.007508911073891 - best value : -5.845871329462158\n",
      "330/500 - iteration : 23413 - rewards value test : -6.1196997579442565 - best value : -5.845871329462158\n",
      "340/500 - iteration : 23483 - rewards value test : -6.065118179850467 - best value : -5.845871329462158\n",
      "350/500 - iteration : 23553 - rewards value test : -6.074543388809064 - best value : -5.845871329462158\n",
      "360/500 - iteration : 23623 - rewards value test : -6.241055194550335 - best value : -5.845871329462158\n",
      "370/500 - iteration : 23693 - rewards value test : -6.213890767389514 - best value : -5.845871329462158\n",
      "380/500 - iteration : 23763 - rewards value test : -6.27955526119704 - best value : -5.845871329462158\n",
      "390/500 - iteration : 23833 - rewards value test : -6.169854468469276 - best value : -5.845871329462158\n",
      "400/500 - iteration : 23903 - rewards value test : -6.132967679148272 - best value : -5.845871329462158\n",
      "410/500 - iteration : 23973 - rewards value test : -6.2150469432516795 - best value : -5.845871329462158\n",
      "420/500 - iteration : 24043 - rewards value test : -6.273318697705407 - best value : -5.845871329462158\n",
      "430/500 - iteration : 24113 - rewards value test : -6.08810567494205 - best value : -5.845871329462158\n",
      "440/500 - iteration : 24183 - rewards value test : -6.030593640377437 - best value : -5.845871329462158\n",
      "450/500 - iteration : 24253 - rewards value test : -6.1439394135722365 - best value : -5.845871329462158\n",
      "460/500 - iteration : 24323 - rewards value test : -6.16992982326405 - best value : -5.845871329462158\n",
      "470/500 - iteration : 24393 - rewards value test : -6.169706821841194 - best value : -5.845871329462158\n",
      "480/500 - iteration : 24463 - rewards value test : -5.982924457796791 - best value : -5.845871329462158\n",
      "490/500 - iteration : 24533 - rewards value test : -6.0168816936488785 - best value : -5.845871329462158\n"
     ]
    }
   ],
   "source": [
    "cacla.learning()"
   ]
  },
  {
   "cell_type": "code",
   "execution_count": 20,
   "id": "54c2709a-fded-443a-b9ec-7930eeb6e4be",
   "metadata": {},
   "outputs": [
    {
     "name": "stdout",
     "output_type": "stream",
     "text": [
      "0.76\n"
     ]
    }
   ],
   "source": [
    "dist_max = -200\n",
    "dist_min = 0\n",
    "current_dist = -48\n",
    "r = 1 - ( current_dist / (dist_max - dist_min))\n",
    "print(r)"
   ]
  },
  {
   "cell_type": "markdown",
   "id": "916782c7-dcb5-4ca2-958a-8ccf0feb83ba",
   "metadata": {},
   "source": [
    "## Affichage des rewards"
   ]
  },
  {
   "cell_type": "code",
   "execution_count": 11,
   "id": "bbad50d6-62ce-47c6-bc1a-558d2d5a78e4",
   "metadata": {},
   "outputs": [
    {
     "data": {
      "image/png": "[encoded data removed]",
      "text/plain": [
       "<Figure size 720x504 with 1 Axes>"
      ]
     },
     "metadata": {
      "needs_background": "light"
     },
     "output_type": "display_data"
    }
   ],
   "source": [
    "plt.figure(figsize=(10,7))\n",
    "plt.plot(cacla.list_rewards, c= 'r',label = 'rewards')\n",
    "plt.legend()\n",
    "plt.xlabel('episode')\n",
    "plt.ylabel('reward')\n",
    "plt.title('Continuous Actor Critic (CACLA) - Tracking - Rewards')\n",
    "plt.show()"
   ]
  },
  {
   "cell_type": "markdown",
   "id": "87617e40-4739-49af-a975-7b0f743be4df",
   "metadata": {},
   "source": [
    "## Démonstration de la simulation de l'agent dans l'environement"
   ]
  },
  {
   "cell_type": "code",
   "execution_count": 12,
   "id": "ae20fd63-65a7-4238-97f1-aef6193a46b3",
   "metadata": {},
   "outputs": [
    {
     "name": "stdout",
     "output_type": "stream",
     "text": [
      "iteration : 7, reward :  -0.13762197739055854\n"
     ]
    },
    {
     "data": {
      "image/png": "[encoded data removed]",
      "text/plain": [
       "<Figure size 360x360 with 1 Axes>"
      ]
     },
     "metadata": {
      "needs_background": "light"
     },
     "output_type": "display_data"
    },
    {
     "name": "stdout",
     "output_type": "stream",
     "text": [
      "0.0752333695578012\n"
     ]
    }
   ],
   "source": [
    "state = env.reset()\n",
    "done = False\n",
    "\n",
    "list_x_agent = list()\n",
    "list_y_agent = list()\n",
    "list_x_target = list()\n",
    "list_y_target = list()\n",
    "\n",
    "nb_iter = 0\n",
    "r = 0.0\n",
    "list_x_agent.append(env.agent[0])\n",
    "list_y_agent.append(env.agent[1])\n",
    "list_x_target.append(env.target[0])\n",
    "list_y_target.append(env.target[1])\n",
    "while not done :\n",
    "    state_t = torch.as_tensor(state , dtype=torch.float32)\n",
    "    action =  cacla.best_model(state_t).detach().numpy()\n",
    "    new_state, reward, done = env.step(action)\n",
    "    r += reward\n",
    "    list_x_agent.append(env.agent[0])\n",
    "    list_y_agent.append(env.agent[1])\n",
    "    list_x_target.append(env.target[0])\n",
    "    list_y_target.append(env.target[1])\n",
    "    state = new_state\n",
    "    nb_iter += 1\n",
    "    \n",
    "print(f\"iteration : {nb_iter}, reward : \",(r/300))\n",
    "plt.figure(figsize=(5,5))\n",
    "plt.scatter(list_x_agent,list_y_agent , label=\"agent\")\n",
    "plt.scatter(list_x_target,list_y_target, label='target')\n",
    "rect=mpatches.Rectangle((4,5),5,1, \n",
    "                            fill=False,\n",
    "                            color=\"purple\",\n",
    "                           linewidth=2)\n",
    "                           #facecolor=\"red\")\n",
    "plt.gca().add_patch(rect)\n",
    "plt.xticks([0, 2, 4, 6, 8, 10])\n",
    "plt.yticks([0, 2, 4, 6, 8, 10])\n",
    "plt.xlabel(\"x\")\n",
    "plt.ylabel(\"y\")\n",
    "plt.title(\"Tracking simulation with the agent's policy\")\n",
    "plt.legend()\n",
    "plt.show()\n",
    "print((env.agent[0] - env.target[0])**2 + (env.agent[1] - env.target[1])**2)"
   ]
  },
  {
   "cell_type": "markdown",
   "id": "628a850e-244c-47e5-bd18-11f16a2f18b3",
   "metadata": {},
   "source": [
    "## Etape par étape"
   ]
  },
  {
   "cell_type": "code",
   "execution_count": null,
   "id": "56a9c660-1ff3-4262-908c-8343e2d7af10",
   "metadata": {},
   "outputs": [],
   "source": [
    "state = env.reset()\n",
    "done = False\n",
    "\n",
    "list_x_agent = list()\n",
    "list_y_agent = list()\n",
    "list_x_target = list()\n",
    "list_y_target = list()\n",
    "\n",
    "iteration = 0\n",
    "while not done :\n",
    "    state_t = torch.as_tensor(state , dtype=torch.float32)\n",
    "    action =  cacla.best_model(state_t).detach().numpy()\n",
    "    new_state, reward, done = env.step(action)\n",
    "    state = new_state\n",
    "    iteration += 1\n",
    "    \n",
    "    plt.figure(figsize=(4,4))\n",
    "    # plt.scatter(list_x_target[0],list_y_target[0], color=\"red\",label=\"first position target\")\n",
    "    plt.scatter(env.agent[0] ,env.agent[1], label=\"agent\")\n",
    "    plt.scatter(env.target[0],env.target[1], label='target')\n",
    "    rect=mpatches.Rectangle((4,5),5,1, \n",
    "                            fill=False,\n",
    "                            color=\"purple\",\n",
    "                           linewidth=2)\n",
    "                           #facecolor=\"red\")\n",
    "    plt.gca().add_patch(rect)\n",
    "    plt.xticks([0, 2, 4, 6, 8, 10])\n",
    "    plt.yticks([0, 2, 4, 6, 8, 10])\n",
    "    plt.legend()\n",
    "    plt.show()"
   ]
  },
  {
   "cell_type": "code",
   "execution_count": 21,
   "id": "f229aa3a-4068-417d-ad8f-6638c4ebe6c9",
   "metadata": {},
   "outputs": [
    {
     "name": "stderr",
     "output_type": "stream",
     "text": [
      "100%|████████████████████████████████████████| 20/20 [1:02:23<00:00, 187.17s/it]\n"
     ]
    }
   ],
   "source": [
    "success = 0\n",
    "fails = 0\n",
    "nb_tests = 20\n",
    "\n",
    "\n",
    "matrice_simulation_rewards = list()\n",
    "\n",
    "for i in tqdm(range(nb_tests)) : \n",
    "    env = Tracking()\n",
    "    actor_network = ActorNetwork(\n",
    "        nb_neurons = 12,\n",
    "        action_space = env.action_space,\n",
    "        observation_space = env.observation_space\n",
    "    )\n",
    "    critic_network = CriticNetwork(\n",
    "        nb_neurons = 12,\n",
    "        observation_space = env.observation_space\n",
    "    )\n",
    "    cacla = CACLA(\n",
    "        learning_rate_critic = 0.01,\n",
    "        learning_rate_actor = 0.01,\n",
    "        discount_factor = 0.95,\n",
    "        sigma = 0.1,\n",
    "        nb_episode = 500,\n",
    "        test_frequency = 1,\n",
    "        env = env,\n",
    "        actor_network = actor_network,\n",
    "        critic_network = critic_network,\n",
    "        verbose_mode = False\n",
    "    )\n",
    "    cacla.learning()\n",
    "    matrice_simulation_rewards.append(cacla.list_rewards)\n",
    "    \n",
    "    state = env.reset()\n",
    "    done = False\n",
    "    nb_iter = 0\n",
    "    while not done :\n",
    "        state_t = torch.as_tensor(state , dtype=torch.float32)\n",
    "        action =  cacla.best_model(state_t).detach().numpy()\n",
    "        new_state, reward, done = env.step(action)\n",
    "        state = new_state\n",
    "        nb_iter += 1\n",
    "    \n",
    "    if nb_iter == env.max_iteration :\n",
    "        fails += 1\n",
    "    else :\n",
    "        success += 1    "
   ]
  },
  {
   "cell_type": "code",
   "execution_count": 23,
   "id": "0c6ea11d-ebb0-4284-8638-4512c415a233",
   "metadata": {},
   "outputs": [
    {
     "name": "stdout",
     "output_type": "stream",
     "text": [
      "nombre de succes : 18\n",
      "nombre d'echecs : 2\n",
      "ratio : 90.0%\n"
     ]
    }
   ],
   "source": [
    "print(f\"nombre de succes : {success}\")\n",
    "print(f\"nombre d'echecs : {fails}\")\n",
    "print(f\"ratio : {success/(success+fails)*100}%\")"
   ]
  },
  {
   "cell_type": "code",
   "execution_count": 29,
   "id": "07c82b98-3889-44c6-bc24-eb0a8e76690b",
   "metadata": {},
   "outputs": [],
   "source": [
    "import numpy as np\n",
    "def rewards_normalization(matrice_simulation_rewards) :\n",
    "    dist_max = -200\n",
    "    dist_min = 0\n",
    "    arr = np.array(matrice_simulation_rewards)\n",
    "    return 1 - ( arr / (dist_max - dist_min)).mean(axis=0)\n",
    "l = rewards_normalization(matrice_simulation_rewards)"
   ]
  },
  {
   "cell_type": "code",
   "execution_count": 30,
   "id": "3c1b824a-ab6d-4753-abfc-3eba81103100",
   "metadata": {},
   "outputs": [
    {
     "data": {
      "image/png": "[encoded data removed]",
      "text/plain": [
       "<Figure size 432x288 with 1 Axes>"
      ]
     },
     "metadata": {
      "needs_background": "light"
     },
     "output_type": "display_data"
    }
   ],
   "source": [
    "plt.figure()\n",
    "plt.plot(l)\n",
    "plt.show()"
   ]
  },
  {
   "cell_type": "code",
   "execution_count": 31,
   "id": "8b4689f1-7b49-4f47-8752-92cfaef5b3b9",
   "metadata": {},
   "outputs": [
    {
     "name": "stdout",
     "output_type": "stream",
     "text": [
      "mean rewards :  0.9044667729751401\n"
     ]
    }
   ],
   "source": [
    "print(\"mean rewards : \",l.mean())"
   ]
  },
  {
   "cell_type": "code",
   "execution_count": null,
   "id": "6d2f0b99-c404-43ad-8bee-cc23d82cefc3",
   "metadata": {},
   "outputs": [],
   "source": []
  }
 ],
 "metadata": {
  "kernelspec": {
   "display_name": "Python 3 (ipykernel)",
   "language": "python",
   "name": "python3"
  },
  "language_info": {
   "codemirror_mode": {
    "name": "ipython",
    "version": 3
   },
   "file_extension": ".py",
   "mimetype": "text/x-python",
   "name": "python",
   "nbconvert_exporter": "python",
   "pygments_lexer": "ipython3",
   "version": "3.8.10"
  }
 },
 "nbformat": 4,
 "nbformat_minor": 5
}
