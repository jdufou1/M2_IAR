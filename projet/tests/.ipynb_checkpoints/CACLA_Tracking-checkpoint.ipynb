{
 "cells": [
  {
   "cell_type": "markdown",
   "id": "279befaa-6225-4e13-a3b1-788d47d7c6f0",
   "metadata": {},
   "source": [
    "# Test environnement Tracking avec CACLA"
   ]
  },
  {
   "cell_type": "markdown",
   "id": "fe2b7e43-88c7-465e-a1e0-418b27d54346",
   "metadata": {},
   "source": [
    "Reproduction de l'environnement de test pour le papier https://dspace.library.uu.nl/bitstream/handle/1874/25514/wiering_07_reinforcementlearning.pdf"
   ]
  },
  {
   "cell_type": "code",
   "execution_count": 1,
   "id": "b3f92839-0049-44bd-a903-cb55fb329d7e",
   "metadata": {},
   "outputs": [],
   "source": [
    "import matplotlib.pyplot as plt\n",
    "import matplotlib.patches as mpatches\n",
    "import torch\n",
    "import sys\n",
    "\n",
    "sys.path.insert(0, '../')\n",
    "from utils.Tracking import Tracking\n",
    "from utils.Critic import CriticNetwork\n",
    "from utils.Actor import ActorNetwork\n",
    "from utils.CACLA import CACLA\n",
    "\n",
    "from tqdm import tqdm"
   ]
  },
  {
   "cell_type": "markdown",
   "id": "d19f3746-9b77-4fc0-a76f-e098c9ba782d",
   "metadata": {},
   "source": [
    "## hyper paramètres"
   ]
  },
  {
   "cell_type": "code",
   "execution_count": 2,
   "id": "f2c02b06-2a74-4de3-8146-7facc2ba8915",
   "metadata": {},
   "outputs": [],
   "source": [
    "action_space = 4\n",
    "observation_space = 1\n",
    "\n",
    "env = Tracking()\n",
    "actor_network = ActorNetwork(\n",
    "    nb_neurons = 12,\n",
    "    action_space = action_space,\n",
    "    observation_space = observation_space\n",
    ")\n",
    "\n",
    "critic_network = CriticNetwork(\n",
    "    nb_neurons = 12,\n",
    "    observation_space = observation_space\n",
    ")\n",
    "\n",
    "cacla = CACLA(\n",
    "    learning_rate_critic = 0.01,\n",
    "    learning_rate_actor = 0.01,\n",
    "    discount_factor = 0.95,\n",
    "    sigma = 0.1,\n",
    "    nb_episode = 500,\n",
    "    test_frequency = 10,\n",
    "    env = env,\n",
    "    actor_network = actor_network,\n",
    "    critic_network = critic_network,\n",
    "    exploration_strategy = \"egreedy\"\n",
    ")"
   ]
  },
  {
   "cell_type": "markdown",
   "id": "1b3f9540-05ff-407f-bb1d-07d085940f4e",
   "metadata": {},
   "source": [
    "## Apprentissage"
   ]
  },
  {
   "cell_type": "code",
   "execution_count": 3,
   "id": "2760a785-d04e-47a7-91e8-e289dae4bea9",
   "metadata": {},
   "outputs": [
    {
     "name": "stdout",
     "output_type": "stream",
     "text": [
      "0/500 - iteration : 300 - rewards value test : -48.303639585824946 - best value : -10000000000.0\n",
      "10/500 - iteration : 3300 - rewards value test : -48.349451681771214 - best value : -48.303639585824946\n",
      "20/500 - iteration : 6300 - rewards value test : -48.48209834693003 - best value : -48.303639585824946\n",
      "30/500 - iteration : 9300 - rewards value test : -42.15017105263118 - best value : -48.303639585824946\n",
      "40/500 - iteration : 12300 - rewards value test : -48.278971873955925 - best value : -42.15017105263118\n",
      "50/500 - iteration : 15300 - rewards value test : -48.41050494483891 - best value : -42.15017105263118\n",
      "60/500 - iteration : 16835 - rewards value test : -5.8165667390067215 - best value : -42.15017105263118\n",
      "70/500 - iteration : 17198 - rewards value test : -5.714128314636781 - best value : -5.8165667390067215\n",
      "80/500 - iteration : 17854 - rewards value test : -6.101495742091189 - best value : -5.714128314636781\n",
      "90/500 - iteration : 18510 - rewards value test : -31.182230773307285 - best value : -5.714128314636781\n",
      "100/500 - iteration : 20631 - rewards value test : -31.10066469911678 - best value : -5.714128314636781\n",
      "110/500 - iteration : 22166 - rewards value test : -5.779470444797267 - best value : -5.714128314636781\n",
      "120/500 - iteration : 22529 - rewards value test : -6.089152632944694 - best value : -5.714128314636781\n",
      "130/500 - iteration : 24592 - rewards value test : -12.768092686861344 - best value : -5.714128314636781\n",
      "140/500 - iteration : 27592 - rewards value test : -12.762698836979682 - best value : -5.714128314636781\n",
      "150/500 - iteration : 30592 - rewards value test : -12.762455917935464 - best value : -5.714128314636781\n",
      "160/500 - iteration : 33592 - rewards value test : -12.764910768607336 - best value : -5.714128314636781\n",
      "170/500 - iteration : 36592 - rewards value test : -12.774553758809098 - best value : -5.714128314636781\n",
      "180/500 - iteration : 39592 - rewards value test : -12.784070497032426 - best value : -5.714128314636781\n",
      "190/500 - iteration : 42592 - rewards value test : -12.783973314175936 - best value : -5.714128314636781\n",
      "200/500 - iteration : 45592 - rewards value test : -12.768507405354807 - best value : -5.714128314636781\n",
      "210/500 - iteration : 48592 - rewards value test : -12.776676760861724 - best value : -5.714128314636781\n",
      "220/500 - iteration : 51592 - rewards value test : -12.765519447880159 - best value : -5.714128314636781\n",
      "230/500 - iteration : 54592 - rewards value test : -12.773085869658383 - best value : -5.714128314636781\n",
      "240/500 - iteration : 57592 - rewards value test : -12.77027499380187 - best value : -5.714128314636781\n",
      "250/500 - iteration : 60592 - rewards value test : -28.801594100692736 - best value : -5.714128314636781\n",
      "260/500 - iteration : 63592 - rewards value test : -12.771261133847737 - best value : -5.714128314636781\n",
      "270/500 - iteration : 66592 - rewards value test : -12.772541999498387 - best value : -5.714128314636781\n",
      "280/500 - iteration : 69592 - rewards value test : -12.779387482733204 - best value : -5.714128314636781\n",
      "290/500 - iteration : 72592 - rewards value test : -12.760758616064011 - best value : -5.714128314636781\n",
      "300/500 - iteration : 75592 - rewards value test : -12.770285221717069 - best value : -5.714128314636781\n",
      "310/500 - iteration : 78592 - rewards value test : -12.768786194373115 - best value : -5.714128314636781\n",
      "320/500 - iteration : 81592 - rewards value test : -12.773969268148809 - best value : -5.714128314636781\n",
      "330/500 - iteration : 84592 - rewards value test : -12.768171227669422 - best value : -5.714128314636781\n",
      "340/500 - iteration : 87592 - rewards value test : -12.765600853329104 - best value : -5.714128314636781\n",
      "350/500 - iteration : 90592 - rewards value test : -12.756130844454715 - best value : -5.714128314636781\n",
      "360/500 - iteration : 93592 - rewards value test : -12.771153901726244 - best value : -5.714128314636781\n",
      "370/500 - iteration : 96592 - rewards value test : -12.781089417349014 - best value : -5.714128314636781\n",
      "380/500 - iteration : 99592 - rewards value test : -12.776100202616842 - best value : -5.714128314636781\n",
      "390/500 - iteration : 102592 - rewards value test : -12.770208481370469 - best value : -5.714128314636781\n",
      "400/500 - iteration : 104908 - rewards value test : -24.146696061310823 - best value : -5.714128314636781\n",
      "410/500 - iteration : 105794 - rewards value test : -13.937084463939707 - best value : -5.714128314636781\n",
      "420/500 - iteration : 106356 - rewards value test : -13.756030670969276 - best value : -5.714128314636781\n",
      "430/500 - iteration : 108934 - rewards value test : -14.596101963795029 - best value : -5.714128314636781\n",
      "440/500 - iteration : 110098 - rewards value test : -15.486668910888277 - best value : -5.714128314636781\n",
      "450/500 - iteration : 110647 - rewards value test : -19.540255880449994 - best value : -5.714128314636781\n",
      "460/500 - iteration : 111319 - rewards value test : -13.943838380125495 - best value : -5.714128314636781\n",
      "470/500 - iteration : 111519 - rewards value test : -24.304781028244612 - best value : -5.714128314636781\n",
      "480/500 - iteration : 112195 - rewards value test : -20.657985647310113 - best value : -5.714128314636781\n",
      "490/500 - iteration : 114083 - rewards value test : -12.767268884641313 - best value : -5.714128314636781\n"
     ]
    }
   ],
   "source": [
    "cacla.learning()"
   ]
  },
  {
   "cell_type": "code",
   "execution_count": 4,
   "id": "54c2709a-fded-443a-b9ec-7930eeb6e4be",
   "metadata": {},
   "outputs": [
    {
     "name": "stdout",
     "output_type": "stream",
     "text": [
      "0.76\n"
     ]
    }
   ],
   "source": [
    "dist_max = -200\n",
    "dist_min = 0\n",
    "current_dist = -48\n",
    "r = 1 - ( current_dist / (dist_max - dist_min))\n",
    "print(r)"
   ]
  },
  {
   "cell_type": "markdown",
   "id": "916782c7-dcb5-4ca2-958a-8ccf0feb83ba",
   "metadata": {},
   "source": [
    "## Affichage des rewards"
   ]
  },
  {
   "cell_type": "code",
   "execution_count": 5,
   "id": "bbad50d6-62ce-47c6-bc1a-558d2d5a78e4",
   "metadata": {},
   "outputs": [
    {
     "data": {
      "image/png": "[encoded data removed]",
      "text/plain": [
       "<Figure size 720x504 with 1 Axes>"
      ]
     },
     "metadata": {
      "needs_background": "light"
     },
     "output_type": "display_data"
    }
   ],
   "source": [
    "plt.figure(figsize=(10,7))\n",
    "plt.plot(cacla.list_rewards, c= 'r',label = 'rewards')\n",
    "plt.legend()\n",
    "plt.xlabel('episode')\n",
    "plt.ylabel('reward')\n",
    "plt.title('Continuous Actor Critic (CACLA) - Tracking - Rewards')\n",
    "plt.show()"
   ]
  },
  {
   "cell_type": "markdown",
   "id": "87617e40-4739-49af-a975-7b0f743be4df",
   "metadata": {},
   "source": [
    "## Démonstration de la simulation de l'agent dans l'environement"
   ]
  },
  {
   "cell_type": "code",
   "execution_count": 6,
   "id": "ae20fd63-65a7-4238-97f1-aef6193a46b3",
   "metadata": {},
   "outputs": [
    {
     "name": "stdout",
     "output_type": "stream",
     "text": [
      "iteration : 7, reward :  -0.1344927931289966\n"
     ]
    },
    {
     "data": {
      "image/png": "[encoded data removed]",
      "text/plain": [
       "<Figure size 360x360 with 1 Axes>"
      ]
     },
     "metadata": {
      "needs_background": "light"
     },
     "output_type": "display_data"
    },
    {
     "name": "stdout",
     "output_type": "stream",
     "text": [
      "0.09913864539676079\n"
     ]
    }
   ],
   "source": [
    "state = env.reset()\n",
    "done = False\n",
    "\n",
    "list_x_agent = list()\n",
    "list_y_agent = list()\n",
    "list_x_target = list()\n",
    "list_y_target = list()\n",
    "\n",
    "nb_iter = 0\n",
    "r = 0.0\n",
    "list_x_agent.append(env.agent[0])\n",
    "list_y_agent.append(env.agent[1])\n",
    "list_x_target.append(env.target[0])\n",
    "list_y_target.append(env.target[1])\n",
    "while not done :\n",
    "    state_t = torch.as_tensor(state , dtype=torch.float32)\n",
    "    action =  cacla.best_model(state_t).detach().numpy()\n",
    "    new_state, reward, done = env.step(action)\n",
    "    r += reward\n",
    "    list_x_agent.append(env.agent[0])\n",
    "    list_y_agent.append(env.agent[1])\n",
    "    list_x_target.append(env.target[0])\n",
    "    list_y_target.append(env.target[1])\n",
    "    state = new_state\n",
    "    nb_iter += 1\n",
    "    \n",
    "print(f\"iteration : {nb_iter}, reward : \",(r/300))\n",
    "plt.figure(figsize=(5,5))\n",
    "plt.scatter(list_x_agent,list_y_agent , label=\"agent\")\n",
    "plt.scatter(list_x_target,list_y_target, label='target')\n",
    "rect=mpatches.Rectangle((4,5),5,1, \n",
    "                            fill=False,\n",
    "                            color=\"purple\",\n",
    "                           linewidth=2)\n",
    "                           #facecolor=\"red\")\n",
    "plt.gca().add_patch(rect)\n",
    "plt.xticks([0, 2, 4, 6, 8, 10])\n",
    "plt.yticks([0, 2, 4, 6, 8, 10])\n",
    "plt.xlabel(\"x\")\n",
    "plt.ylabel(\"y\")\n",
    "plt.title(\"Tracking simulation with the agent's policy\")\n",
    "plt.legend()\n",
    "plt.show()\n",
    "print((env.agent[0] - env.target[0])**2 + (env.agent[1] - env.target[1])**2)"
   ]
  },
  {
   "cell_type": "markdown",
   "id": "628a850e-244c-47e5-bd18-11f16a2f18b3",
   "metadata": {},
   "source": [
    "## Etape par étape"
   ]
  },
  {
   "cell_type": "code",
   "execution_count": null,
   "id": "56a9c660-1ff3-4262-908c-8343e2d7af10",
   "metadata": {},
   "outputs": [],
   "source": [
    "state = env.reset()\n",
    "done = False\n",
    "\n",
    "list_x_agent = list()\n",
    "list_y_agent = list()\n",
    "list_x_target = list()\n",
    "list_y_target = list()\n",
    "\n",
    "iteration = 0\n",
    "while not done :\n",
    "    state_t = torch.as_tensor(state , dtype=torch.float32)\n",
    "    action =  cacla.best_model(state_t).detach().numpy()\n",
    "    new_state, reward, done = env.step(action)\n",
    "    state = new_state\n",
    "    iteration += 1\n",
    "    \n",
    "    plt.figure(figsize=(4,4))\n",
    "    # plt.scatter(list_x_target[0],list_y_target[0], color=\"red\",label=\"first position target\")\n",
    "    plt.scatter(env.agent[0] ,env.agent[1], label=\"agent\")\n",
    "    plt.scatter(env.target[0],env.target[1], label='target')\n",
    "    rect=mpatches.Rectangle((4,5),5,1, \n",
    "                            fill=False,\n",
    "                            color=\"purple\",\n",
    "                           linewidth=2)\n",
    "                           #facecolor=\"red\")\n",
    "    plt.gca().add_patch(rect)\n",
    "    plt.xticks([0, 2, 4, 6, 8, 10])\n",
    "    plt.yticks([0, 2, 4, 6, 8, 10])\n",
    "    plt.legend()\n",
    "    plt.show()"
   ]
  },
  {
   "cell_type": "markdown",
   "id": "9938fd48-e3dd-4e6f-9471-8cd3a980e5d8",
   "metadata": {},
   "source": [
    "## Execution en batterie"
   ]
  },
  {
   "cell_type": "code",
   "execution_count": 21,
   "id": "f229aa3a-4068-417d-ad8f-6638c4ebe6c9",
   "metadata": {},
   "outputs": [
    {
     "name": "stderr",
     "output_type": "stream",
     "text": [
      "100%|████████████████████████████████████████| 20/20 [1:02:23<00:00, 187.17s/it]\n"
     ]
    }
   ],
   "source": [
    "success = 0\n",
    "fails = 0\n",
    "nb_tests = 20\n",
    "\n",
    "\n",
    "matrice_simulation_rewards = list()\n",
    "\n",
    "for i in tqdm(range(nb_tests)) : \n",
    "    env = Tracking()\n",
    "    actor_network = ActorNetwork(\n",
    "        nb_neurons = 12,\n",
    "        action_space = env.action_space,\n",
    "        observation_space = env.observation_space\n",
    "    )\n",
    "    critic_network = CriticNetwork(\n",
    "        nb_neurons = 12,\n",
    "        observation_space = env.observation_space\n",
    "    )\n",
    "    cacla = CACLA(\n",
    "        learning_rate_critic = 0.01,\n",
    "        learning_rate_actor = 0.01,\n",
    "        discount_factor = 0.95,\n",
    "        sigma = 0.1,\n",
    "        nb_episode = 500,\n",
    "        test_frequency = 1,\n",
    "        env = env,\n",
    "        actor_network = actor_network,\n",
    "        critic_network = critic_network,\n",
    "        verbose_mode = False\n",
    "    )\n",
    "    cacla.learning()\n",
    "    matrice_simulation_rewards.append(cacla.list_rewards)\n",
    "    \n",
    "    state = env.reset()\n",
    "    done = False\n",
    "    nb_iter = 0\n",
    "    while not done :\n",
    "        state_t = torch.as_tensor(state , dtype=torch.float32)\n",
    "        action =  cacla.best_model(state_t).detach().numpy()\n",
    "        new_state, reward, done = env.step(action)\n",
    "        state = new_state\n",
    "        nb_iter += 1\n",
    "    \n",
    "    if nb_iter == env.max_iteration :\n",
    "        fails += 1\n",
    "    else :\n",
    "        success += 1    "
   ]
  },
  {
   "cell_type": "code",
   "execution_count": 23,
   "id": "0c6ea11d-ebb0-4284-8638-4512c415a233",
   "metadata": {},
   "outputs": [
    {
     "name": "stdout",
     "output_type": "stream",
     "text": [
      "nombre de succes : 18\n",
      "nombre d'echecs : 2\n",
      "ratio : 90.0%\n"
     ]
    }
   ],
   "source": [
    "print(f\"nombre de succes : {success}\")\n",
    "print(f\"nombre d'echecs : {fails}\")\n",
    "print(f\"ratio : {success/(success+fails)*100}%\")"
   ]
  },
  {
   "cell_type": "code",
   "execution_count": 29,
   "id": "07c82b98-3889-44c6-bc24-eb0a8e76690b",
   "metadata": {},
   "outputs": [],
   "source": [
    "import numpy as np\n",
    "def rewards_normalization(matrice_simulation_rewards) :\n",
    "    dist_max = -200\n",
    "    dist_min = 0\n",
    "    arr = np.array(matrice_simulation_rewards)\n",
    "    return 1 - ( arr / (dist_max - dist_min)).mean(axis=0)\n",
    "l = rewards_normalization(matrice_simulation_rewards)"
   ]
  },
  {
   "cell_type": "code",
   "execution_count": 35,
   "id": "3c1b824a-ab6d-4753-abfc-3eba81103100",
   "metadata": {},
   "outputs": [
    {
     "data": {
      "image/png": "[encoded data removed]",
      "text/plain": [
       "<Figure size 432x288 with 1 Axes>"
      ]
     },
     "metadata": {
      "needs_background": "light"
     },
     "output_type": "display_data"
    }
   ],
   "source": [
    "plt.figure()\n",
    "plt.title(f\"evolution of the rewards with {nb_tests} simulations on Tracking\")\n",
    "plt.xlabel(\"episode\")\n",
    "plt.ylabel(\"rewards normalized between 0 and 1\")\n",
    "plt.plot(l, label=\"rewards CACLA\")\n",
    "plt.legend()\n",
    "plt.show()"
   ]
  },
  {
   "cell_type": "code",
   "execution_count": 36,
   "id": "8b4689f1-7b49-4f47-8752-92cfaef5b3b9",
   "metadata": {},
   "outputs": [
    {
     "name": "stdout",
     "output_type": "stream",
     "text": [
      "mean rewards :  0.9044667729751401\n",
      "std rewards :  0.01714671946060081\n"
     ]
    }
   ],
   "source": [
    "print(\"mean rewards : \",l.mean())\n",
    "print(\"std rewards : \",l.std())"
   ]
  },
  {
   "cell_type": "code",
   "execution_count": null,
   "id": "6d2f0b99-c404-43ad-8bee-cc23d82cefc3",
   "metadata": {},
   "outputs": [],
   "source": []
  }
 ],
 "metadata": {
  "kernelspec": {
   "display_name": "Python 3 (ipykernel)",
   "language": "python",
   "name": "python3"
  },
  "language_info": {
   "codemirror_mode": {
    "name": "ipython",
    "version": 3
   },
   "file_extension": ".py",
   "mimetype": "text/x-python",
   "name": "python",
   "nbconvert_exporter": "python",
   "pygments_lexer": "ipython3",
   "version": "3.8.10"
  }
 },
 "nbformat": 4,
 "nbformat_minor": 5
}
