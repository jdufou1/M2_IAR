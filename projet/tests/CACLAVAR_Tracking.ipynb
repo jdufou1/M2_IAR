{
 "cells": [
  {
   "cell_type": "code",
   "execution_count": 1,
   "id": "25c04002-da94-4d94-af74-a1468e716094",
   "metadata": {},
   "outputs": [],
   "source": [
    "import matplotlib.pyplot as plt\n",
    "import matplotlib.patches as mpatches\n",
    "import torch\n",
    "import sys\n",
    "import numpy as np\n",
    "\n",
    "sys.path.insert(0, '../')\n",
    "from utils.Tracking import Tracking\n",
    "from utils.Critic import CriticNetwork\n",
    "from utils.Actor import ActorNetwork\n",
    "from utils.CACLAVAR import CACLAVAR\n",
    "\n",
    "from tqdm import tqdm"
   ]
  },
  {
   "cell_type": "code",
   "execution_count": 3,
   "id": "4200ae40-4e0f-4892-9c08-161105558d1b",
   "metadata": {},
   "outputs": [
    {
     "name": "stderr",
     "output_type": "stream",
     "text": [
      "100%|██████████████████████████████████████████| 20/20 [52:21<00:00, 157.06s/it]\n"
     ]
    }
   ],
   "source": [
    "success = 0\n",
    "fails = 0\n",
    "nb_tests = 20\n",
    "\n",
    "\n",
    "matrice_simulation_rewards = list()\n",
    "\n",
    "for i in tqdm(range(nb_tests)) : \n",
    "    env = Tracking()\n",
    "    actor_network = ActorNetwork(\n",
    "        nb_neurons = 12,\n",
    "        action_space = env.action_space,\n",
    "        observation_space = env.observation_space\n",
    "    )\n",
    "    critic_network = CriticNetwork(\n",
    "        nb_neurons = 12,\n",
    "        observation_space = env.observation_space\n",
    "    )\n",
    "    caclavar = CACLAVAR(\n",
    "        learning_rate_critic = 0.01,\n",
    "        learning_rate_actor = 0.01,\n",
    "        discount_factor = 0.8,\n",
    "        sigma = 0.1,\n",
    "        nb_episode = 500,\n",
    "        test_frequency = 1,\n",
    "        env = env,\n",
    "        actor_network = actor_network,\n",
    "        critic_network = critic_network,\n",
    "        verbose_mode = False\n",
    "    )\n",
    "    caclavar.learning()\n",
    "    matrice_simulation_rewards.append(caclavar.list_rewards)\n",
    "    \n",
    "    state = env.reset()\n",
    "    done = False\n",
    "    nb_iter = 0\n",
    "    while not done :\n",
    "        state_t = torch.as_tensor(state , dtype=torch.float32)\n",
    "        action =  caclavar.best_model(state_t).detach().numpy()\n",
    "        new_state, reward, done = env.step(action)\n",
    "        state = new_state\n",
    "        nb_iter += 1\n",
    "    \n",
    "    if nb_iter == env.max_iteration :\n",
    "        fails += 1\n",
    "    else :\n",
    "        success += 1    "
   ]
  },
  {
   "cell_type": "code",
   "execution_count": 4,
   "id": "3727a9b8-1b17-4d2d-a43c-06184a6af683",
   "metadata": {},
   "outputs": [
    {
     "name": "stdout",
     "output_type": "stream",
     "text": [
      "nombre de succes : 16\n",
      "nombre d'echecs : 4\n",
      "ratio : 80.0%\n"
     ]
    }
   ],
   "source": [
    "print(f\"nombre de succes : {success}\")\n",
    "print(f\"nombre d'echecs : {fails}\")\n",
    "print(f\"ratio : {success/(success+fails)*100}%\")"
   ]
  },
  {
   "cell_type": "code",
   "execution_count": 6,
   "id": "6e2fed85-2e4b-4266-9102-55b9fbb769de",
   "metadata": {},
   "outputs": [],
   "source": [
    "import numpy as np\n",
    "def rewards_normalization(matrice_simulation_rewards) :\n",
    "    dist_max = -200\n",
    "    dist_min = 0\n",
    "    arr = np.array(matrice_simulation_rewards)\n",
    "    return 1 - ( arr / (dist_max - dist_min)).mean(axis=0)\n",
    "l = rewards_normalization(matrice_simulation_rewards)"
   ]
  },
  {
   "cell_type": "code",
   "execution_count": 7,
   "id": "3ca034ce-54c2-48d8-a894-79828e8b6ae4",
   "metadata": {},
   "outputs": [
    {
     "data": {
      "image/png": "[encoded data removed]",
      "text/plain": [
       "<Figure size 432x288 with 1 Axes>"
      ]
     },
     "metadata": {
      "needs_background": "light"
     },
     "output_type": "display_data"
    }
   ],
   "source": [
    "plt.figure()\n",
    "plt.title(f\"evolution of the rewards with {nb_tests} simulations on Tracking\")\n",
    "plt.xlabel(\"episode\")\n",
    "plt.ylabel(\"rewards normalized between 0 and 1\")\n",
    "plt.plot(l, label=\"rewards CACLA+VAR\")\n",
    "plt.legend()\n",
    "plt.show()"
   ]
  },
  {
   "cell_type": "code",
   "execution_count": 8,
   "id": "4b3c1e8a-b3d3-4619-a80c-3f3f4ceff5ac",
   "metadata": {},
   "outputs": [
    {
     "name": "stdout",
     "output_type": "stream",
     "text": [
      "mean rewards :  0.9139254330988992\n",
      "std rewards :  0.015362445732701601\n"
     ]
    }
   ],
   "source": [
    "print(\"mean rewards : \",l.mean())\n",
    "print(\"std rewards : \",l.std())"
   ]
  },
  {
   "cell_type": "code",
   "execution_count": null,
   "id": "f4f7dea1-19ce-48ba-94ca-9035c561a788",
   "metadata": {},
   "outputs": [],
   "source": []
  }
 ],
 "metadata": {
  "kernelspec": {
   "display_name": "Python 3 (ipykernel)",
   "language": "python",
   "name": "python3"
  },
  "language_info": {
   "codemirror_mode": {
    "name": "ipython",
    "version": 3
   },
   "file_extension": ".py",
   "mimetype": "text/x-python",
   "name": "python",
   "nbconvert_exporter": "python",
   "pygments_lexer": "ipython3",
   "version": "3.8.10"
  }
 },
 "nbformat": 4,
 "nbformat_minor": 5
}
