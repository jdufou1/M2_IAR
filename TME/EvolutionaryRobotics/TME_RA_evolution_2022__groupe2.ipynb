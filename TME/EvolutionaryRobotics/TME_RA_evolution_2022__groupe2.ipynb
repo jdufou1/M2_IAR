{
  "nbformat": 4,
  "nbformat_minor": 0,
  "metadata": {
    "colab": {
      "name": "TME_RA_evolution_2022__groupe2.ipynb",
      "provenance": [],
      "collapsed_sections": [
        "gAdyWkaK3S1t",
        "K60N1A74wDUv"
      ]
    },
    "kernelspec": {
      "name": "python3",
      "display_name": "Python 3"
    }
  },
  "cells": [
    {
      "cell_type": "markdown",
      "metadata": {
        "id": "-MDL6ptv009d"
      },
      "source": [
        "# <font color='red'>TME ROBOTIQUE ET APPRENTISSAGE</font>\n",
        "# <font color='red'>Stratégies d'Evolution et Robotique Autonome</font>\n",
        "\n",
        "<font color=\"red\">Version étudiant 2022</font>\n",
        "\n",
        "<b><font color='green'>GROUPE 2</font></b>\n",
        "\n",
        "*mise à jour: 24/3/2022*"
      ]
    },
    {
      "cell_type": "markdown",
      "metadata": {
        "id": "C6fRllkq1IPb"
      },
      "source": [
        "Ce notebook doit être exécuté dans [Google Colab](colab.research.google.com/)\n",
        "\n",
        "Vous devez déposer votre travail sur Moodle:\n",
        "* déposer votre notebook, avec le nom de fichier *obligatoirement* au format suivant: **RA_NOM1_NOM2.ipynb**\n",
        "* toutes les cellules exécutées\n",
        "* des graphes et un bref commentaire lorsque c'est demandé\n",
        "* la partie C ne sera pas évaluée\n",
        "\n",
        "*Le sujet est à faire en binome.*\n",
        "\n",
        "# COMPLETEZ LES CHAMPS CI-DESSOUS AVEC NOM/PRENOM/CARTE_ETU:\n",
        "\n",
        "* Étudiant 1: **_Nom_ _Prénom_ _noCarteEtudiant_**\n",
        "* Étudiant 2: **_Nom_ _Prénom_ _noCarteEtudiant_**\n",
        "\n"
      ]
    },
    {
      "cell_type": "markdown",
      "metadata": {
        "id": "D_-JxZ5rwnsN"
      },
      "source": [
        "# <font color='orange'>PARTIE A: optimisation dans un espace de recherche continu</font>"
      ]
    },
    {
      "cell_type": "markdown",
      "metadata": {
        "id": "gAdyWkaK3S1t"
      },
      "source": [
        "# Importation des librairies et définition des fonctions utiles pour la partie A\n",
        "\n",
        "Remarque: *Il est nécessaire d'exécuter ces cellules une seule fois. En cas de redémarrage du noyau, il faut relancer ces cellules. Il n'est pas nécessaire de regarder le code de ces cellules, elles servent seulement de soutien à la partie A.*"
      ]
    },
    {
      "cell_type": "code",
      "metadata": {
        "id": "I0oTlXAC0ti4",
        "colab": {
          "base_uri": "https://localhost:8080/"
        },
        "outputId": "def13fc8-c6c9-45d8-e900-b274e4316601"
      },
      "source": [
        "from datetime import datetime\n",
        "from datetime import date\n",
        "#import importlib # une seule fois\n",
        "import sys\n",
        "import random\n",
        "import matplotlib.pyplot as plt\n",
        "#from mpl_toolkits.mplot3d import Axes3D  # noqa: F401 unused import\n",
        "import numpy as np\n",
        "from matplotlib import cm\n",
        "from matplotlib.ticker import LinearLocator, FormatStrFormatter\n",
        "from scipy.optimize import minimize\n",
        "\n",
        "print(\"\\n\",date.today(), datetime.now().strftime(\"%H:%M:%S\"),\"GMT\") # timestamp is greenwich time\n",
        "print(\"OK.\")"
      ],
      "execution_count": null,
      "outputs": [
        {
          "output_type": "stream",
          "name": "stdout",
          "text": [
            "\n",
            " 2022-03-10 13:01:57 GMT\n",
            "OK.\n"
          ]
        }
      ]
    },
    {
      "cell_type": "code",
      "metadata": {
        "id": "Rg8HMyzn5Hc5",
        "colab": {
          "base_uri": "https://localhost:8080/"
        },
        "outputId": "c3318568-0b94-4bfd-a980-53653744060f"
      },
      "source": [
        "#!pip install numpy scipy matplotlib pandas sympy nose\n",
        "!pip install deap\n",
        "!pip install cma\n",
        "#!pip install --user pygame\n",
        "\n",
        "print(\"\\n\",date.today(), datetime.now().strftime(\"%H:%M:%S\"),\"GMT\") # timestamp is greenwich time\n",
        "print(\"OK.\")"
      ],
      "execution_count": null,
      "outputs": [
        {
          "output_type": "stream",
          "name": "stdout",
          "text": [
            "Collecting deap\n",
            "  Downloading deap-1.3.1-cp37-cp37m-manylinux_2_5_x86_64.manylinux1_x86_64.manylinux_2_12_x86_64.manylinux2010_x86_64.whl (160 kB)\n",
            "\u001b[?25l\r\u001b[K     |██                              | 10 kB 24.9 MB/s eta 0:00:01\r\u001b[K     |████                            | 20 kB 31.6 MB/s eta 0:00:01\r\u001b[K     |██████                          | 30 kB 32.9 MB/s eta 0:00:01\r\u001b[K     |████████▏                       | 40 kB 37.0 MB/s eta 0:00:01\r\u001b[K     |██████████▏                     | 51 kB 28.2 MB/s eta 0:00:01\r\u001b[K     |████████████▏                   | 61 kB 31.2 MB/s eta 0:00:01\r\u001b[K     |██████████████▎                 | 71 kB 30.2 MB/s eta 0:00:01\r\u001b[K     |████████████████▎               | 81 kB 29.0 MB/s eta 0:00:01\r\u001b[K     |██████████████████▎             | 92 kB 31.1 MB/s eta 0:00:01\r\u001b[K     |████████████████████▍           | 102 kB 30.8 MB/s eta 0:00:01\r\u001b[K     |██████████████████████▍         | 112 kB 30.8 MB/s eta 0:00:01\r\u001b[K     |████████████████████████▍       | 122 kB 30.8 MB/s eta 0:00:01\r\u001b[K     |██████████████████████████▌     | 133 kB 30.8 MB/s eta 0:00:01\r\u001b[K     |████████████████████████████▌   | 143 kB 30.8 MB/s eta 0:00:01\r\u001b[K     |██████████████████████████████▌ | 153 kB 30.8 MB/s eta 0:00:01\r\u001b[K     |████████████████████████████████| 160 kB 30.8 MB/s \n",
            "\u001b[?25hRequirement already satisfied: numpy in /usr/local/lib/python3.7/dist-packages (from deap) (1.21.5)\n",
            "Installing collected packages: deap\n",
            "Successfully installed deap-1.3.1\n",
            "Collecting cma\n",
            "  Downloading cma-3.2.1-py2.py3-none-any.whl (248 kB)\n",
            "\u001b[K     |████████████████████████████████| 248 kB 14.6 MB/s \n",
            "\u001b[?25hRequirement already satisfied: numpy in /usr/local/lib/python3.7/dist-packages (from cma) (1.21.5)\n",
            "Installing collected packages: cma\n",
            "Successfully installed cma-3.2.1\n",
            "\n",
            " 2022-03-10 13:02:12 GMT\n",
            "OK.\n"
          ]
        }
      ]
    },
    {
      "cell_type": "code",
      "metadata": {
        "id": "4aB0Z6Rv1VM0",
        "colab": {
          "base_uri": "https://localhost:8080/"
        },
        "outputId": "b1e161ac-c4c0-483f-9366-530ae95f3141"
      },
      "source": [
        "# plot\n",
        "\n",
        "import matplotlib.pyplot as plt\n",
        "from mpl_toolkits.mplot3d import Axes3D  # noqa: F401 unused import\n",
        "import numpy as np\n",
        "from matplotlib import cm\n",
        "from matplotlib.ticker import LinearLocator, FormatStrFormatter\n",
        "import random\n",
        "from scipy.optimize import minimize\n",
        "\n",
        "\n",
        "def plot_results(my_func, my_points, min_x=-30, max_x=30, min_y=-30, max_y=30, nbx=100, nby=100, title=\"Title\"):\n",
        "    \"\"\"Plots a 2D function with a heatmap and the points given as argument are plotted on top of it\n",
        "\n",
        "    Plots a 2D function with a heatmap and the points given as argument are plotted on top of it:\n",
        "    :param my_func: the function to plot on the background\n",
        "    :param my_points: the points to plot\n",
        "    :param min_x: min value of x\n",
        "    :param max_x: max value of x\n",
        "    :param min_y: min value of y\n",
        "    :param max_y: max value of y\n",
        "    :param nbx: number of my_func samples on the X-axis\n",
        "    :param nby: number of my_func samples on the Y-axis\n",
        "    :param title: title of the figure\n",
        "    \"\"\"\n",
        "    X = np.linspace(min_x, max_x, num=nbx)\n",
        "    Y = np.linspace(min_y, max_y, num=nby)\n",
        "    Z=np.zeros((nbx,nby),dtype=np.double)\n",
        "    for i in range(nbx):\n",
        "        for j in range(nby):\n",
        "            Z[i][j]=my_func([X[i],Y[j]])\n",
        "    fig,ax=plt.subplots(figsize=(5,5))\n",
        "    ax.set_xlim(min_x,max_x)\n",
        "    ax.set_ylim(min_y,max_y)\n",
        "    ax.imshow(Z, cmap='hot', interpolation='nearest',extent=(min_x,max_x,min_y,max_y))\n",
        "    \n",
        "    #print(\"Points: \"+str(my_points))\n",
        "    x=[]\n",
        "    y=[]\n",
        "    for p in my_points:\n",
        "        x.append(p[0])\n",
        "        y.append(p[1])\n",
        "\n",
        "    ax.plot(x,y,\".\")\n",
        "    ax.set_title(title)\n",
        "    plt.show()\n",
        "\n",
        "def plot_violin(res):\n",
        "    \"\"\" Makes a violin plot of the results provided in the argument\n",
        "\n",
        "    Makes a violin plot of the results provided in the argument.\n",
        "    :param res: dictionary of the results to plot. The key is the name and the data is a vector of performance values.\n",
        "    \"\"\"\n",
        "    fig,ax=plt.subplots(figsize=(5,5))\n",
        "    data=[]\n",
        "    labels=[]\n",
        "    for k in res.keys():\n",
        "        data.append(res[k])\n",
        "        labels.append(k)\n",
        "    ax.violinplot(data,\n",
        "                   showmeans=False,\n",
        "                   showmedians=True)\n",
        "    ax.set_title('Violin plot')\n",
        "    # adding horizontal grid lines\n",
        "    ax.yaxis.grid(True)\n",
        "    ax.set_xticks([y + 1 for y in range(len(data))])\n",
        "    ax.set_xlabel('Optimization methods')\n",
        "    ax.set_ylabel('Best value found')\n",
        "\n",
        "    # add x-tick labels\n",
        "    plt.setp(ax, xticks=[y + 1 for y in range(len(data))],\n",
        "        xticklabels=labels)\n",
        "    plt.setp(ax.get_xticklabels(), rotation=30, ha=\"right\")\n",
        "    plt.show()\n",
        "  \n",
        "print(\"\\n\",date.today(), datetime.now().strftime(\"%H:%M:%S\"),\"GMT\") # timestamp is greenwich time\n",
        "print(\"OK.\")"
      ],
      "execution_count": null,
      "outputs": [
        {
          "output_type": "stream",
          "name": "stdout",
          "text": [
            "\n",
            " 2022-03-10 13:02:12 GMT\n",
            "OK.\n"
          ]
        }
      ]
    },
    {
      "cell_type": "code",
      "metadata": {
        "id": "MlsoUrhj2U_1",
        "colab": {
          "base_uri": "https://localhost:8080/"
        },
        "outputId": "b1927aa5-13b1-4791-b4e8-35c28ab11a3b"
      },
      "source": [
        "# myEvalFn\n",
        "# requires: CMA\n",
        "\n",
        "import sys\n",
        "import cma\n",
        "import cma.purecma as purecma\n",
        "from deap import benchmarks\n",
        "\n",
        "def ackley(x):\n",
        "    return benchmarks.ackley(x)[0]\n",
        "\n",
        "def sphere(x):\n",
        "    return benchmarks.sphere(x)[0]\n",
        "\n",
        "def rastrigin(x):\n",
        "    return benchmarks.rastrigin(x)[0]\n",
        "\n",
        "\n",
        "#### #### ####\n",
        "\n",
        "print(\"\\n\",date.today(), datetime.now().strftime(\"%H:%M:%S\"),\"GMT\") # timestamp is greenwich time\n",
        "print(\"OK.\")"
      ],
      "execution_count": null,
      "outputs": [
        {
          "output_type": "stream",
          "name": "stdout",
          "text": [
            "\n",
            " 2022-03-10 13:02:13 GMT\n",
            "OK.\n"
          ]
        }
      ]
    },
    {
      "cell_type": "code",
      "metadata": {
        "id": "vAm_mnxMhhDP",
        "colab": {
          "base_uri": "https://localhost:8080/"
        },
        "outputId": "6d52cff1-a16f-4654-aac8-3c699ca7d4b1"
      },
      "source": [
        "# myEvalFn\n",
        "\n",
        "def ackley(x):\n",
        "    return benchmarks.ackley(x)[0]\n",
        "\n",
        "def sphere(x):\n",
        "    return benchmarks.sphere(x)[0]\n",
        "\n",
        "def rastrigin(x):\n",
        "    return benchmarks.rastrigin(x)[0]\n",
        "\n",
        "init_pSG = False # WARNING: pSG.initAll() should NEVER be called BEFORE calling explore(.)\n",
        "def explore(x):  # NOTE: display should be false whenever an optimiser is called\n",
        "    global init_pSG\n",
        "    if init_pSG == False:\n",
        "        pSG.initAll()\n",
        "        init_pSG = True\n",
        "    return -pSG.evaluate(x)   # remember: we minimise!\n",
        "\n",
        "#### #### ####\n",
        "\n",
        "print(\"\\n\",date.today(), datetime.now().strftime(\"%H:%M:%S\"),\"GMT\") # timestamp is greenwich time\n",
        "print(\"OK.\")"
      ],
      "execution_count": null,
      "outputs": [
        {
          "output_type": "stream",
          "name": "stdout",
          "text": [
            "\n",
            " 2022-03-10 13:02:13 GMT\n",
            "OK.\n"
          ]
        }
      ]
    },
    {
      "cell_type": "markdown",
      "metadata": {
        "id": "OsTLJJoviFrh"
      },
      "source": [
        "---\n",
        "\n",
        "# Exercice A-0: recherche au hasard\n",
        "\n",
        "Etudiez le code ci-dessous. Il s'agit d'un algorithme de recherche aléatoire, qui explore l'environnement naïvement et stocke le meilleur score obtenu jusqu'ici. Vous testerez cette bibliothèque sur la fonction de Sphere, Ackley, puis Rastrigin, en dimension 2 pour l'instant. Observez l'évolution de la population. \n",
        "\n",
        "Dans les exercices suivants, vous pouvez utiliser ce code comme point de départ en le modifiant librement.\n",
        "\n",
        "Remarque: la variable *dimensions* définit le nombre de dimensions du problème. Dans l'exemple ci-dessous, le nombre de dimensions est fixé arbitrairement à 16. Notez que la fonction *plot_results* n'affiche que les deux premières dimensions, d'ou le fait que le meilleur individu peut s'approcher ou s'éloigner du centre (ou se trouve la meilleure solution). Vous pouvez aussi tester ce code (ainsi que ceux que vous écrirez) avec 2 dimensions seulement. La convergence sera plus rapide (voire très rapide), mais le rendu sera plus fidèle à l'exploration de l'espace de recherche, puisqu'entièrement représenté."
      ]
    },
    {
      "cell_type": "code",
      "metadata": {
        "id": "oASSXsO7iJie"
      },
      "source": [
        "# fourni a titre d'exemple, ne pas modifier -- reprendre ce code et le modifier dans les cellules suivantes pour répondre aux questions.\n",
        "\n",
        "def launch_random(individual, nbeval=10000, display=True, ma_func=sphere):\n",
        "    parent = np.array(individual)\n",
        "    i=0\n",
        "    j=0\n",
        "    parentFit = ma_func(individual)\n",
        "    bestFit = parentFit\n",
        "    bestIt = 0\n",
        "    while i<nbeval:\n",
        "        child = np.random.uniform(-20,20,len(individual))\n",
        "        childFit = ma_func(child)\n",
        "        if childFit <= parentFit:\n",
        "            parentFit = childFit\n",
        "            parent = np.copy(child)\n",
        "            if bestFit > parentFit:\n",
        "                bestFit = parentFit\n",
        "                bestIt = i\n",
        "        j+=1\n",
        "        solutions = np.array([parent])\n",
        "        if display and ((j<10) or (j%100==0)):\n",
        "            plot_results(ma_func,solutions, title=\"Gen %d\"%(j)) # on projette uniquement sur les deux premières dimensions.\n",
        "        i+=1\n",
        "    print (\"Best fit\",bestFit,\"at iteration\",bestIt)\n",
        "    return bestFit\n",
        "\n",
        "dimensions = 16 # défini le nombre de dimensions de l'espace de recherche (remarque: seules les deux premières sont affichées avec la commande plot_results) \n",
        "launch_random([20]*dimensions,ma_func=sphere) # un vecteur de {dimensions} paramètres, dont on arbitrairement décidé que le point de départ était le vecteur {20,20,20,...,20}, ce qui correpond à une solution peu optimale.\n",
        "\n",
        "print (\"Terminé.\")"
      ],
      "execution_count": null,
      "outputs": []
    },
    {
      "cell_type": "markdown",
      "metadata": {
        "id": "iG6R6kePTAN9"
      },
      "source": [
        "_inclure ici quelques commentaires sur vos résultats_"
      ]
    },
    {
      "cell_type": "markdown",
      "metadata": {
        "id": "ybjYc1FAPqiH"
      },
      "source": [
        "---\n",
        "\n",
        "# Exercice A-1: algorithme (1+1)-ES\n",
        "\n",
        "Nous allons maintenant implementer une stratégie d'évolution (1+1)-ES avec un sigma fixe.\n",
        "\n",
        "Vous testerez cet algorithme sur les mêmes fonctions que précédemment. Vous tracerez (comme montré à la question précédente) l'évolution de la population pour chaque exécution. Vous étudierez l'impact du choix du point initial et du sigma.\n",
        "\n",
        "A noter que si la valeur de sigma peut influer significativement l'optimisation, l'initialisation compte aussi. Par exemple, si la solution initialement proposée se trouve dans une région ressemblant à un plateau (ie. plusieurs solutions proches obtiennent le même score), il sera difficile d'améliorer cette solution puisqu'une recherche locale s'apparentera à une marche aléatoire."
      ]
    },
    {
      "cell_type": "code",
      "metadata": {
        "id": "cGZS3Fgz3n5f"
      },
      "source": [
        "def launch_oneplusone(individual, sigma, nbeval=10000, display=True, ma_func=sphere):\n",
        "  # A compléter\n",
        "  return 0\n",
        "\n",
        "print (\"Terminé.\")"
      ],
      "execution_count": null,
      "outputs": []
    },
    {
      "cell_type": "markdown",
      "metadata": {
        "id": "8W5mGMFvS_Uo"
      },
      "source": [
        "_inclure ici quelques commentaires sur vos résultats_"
      ]
    },
    {
      "cell_type": "markdown",
      "metadata": {
        "id": "3fiZY0kIPzjf"
      },
      "source": [
        "---\n",
        "\n",
        "# Exercice A-2: algorithme (1+1)-ES, règle des 1/5e\n",
        "\n",
        "Nous allons maintenant implementer une stratégie d'évolution (1+1)-ES avec un sigma suivant la règle des 1/5e.\n",
        "\n",
        "Vous testerez cette algorithme sur les mêmes fonction que précédemment. Vous tracerez l'évolution de la population pour chaque exécution. Vous étudierez l'impact du choix du point initial et du sigma."
      ]
    },
    {
      "cell_type": "code",
      "metadata": {
        "id": "BgEOgLphP30L"
      },
      "source": [
        "def launch_ESonefifthRule(individual, sigma, nbeval=10000, display=True, ma_func=sphere):\n",
        "  # A compléter  \n",
        "  return 0\n",
        "\n",
        "print (\"Terminé.\")"
      ],
      "execution_count": null,
      "outputs": []
    },
    {
      "cell_type": "markdown",
      "metadata": {
        "id": "POHcNxuPS-RP"
      },
      "source": [
        "_inclure ici quelques commentaires sur vos résultats_"
      ]
    },
    {
      "cell_type": "markdown",
      "metadata": {
        "id": "DbBN0x0KP5bS"
      },
      "source": [
        "---\n",
        "\n",
        "# Exercice A-3: algorithme (mu,lambda)-ES\n",
        "\n",
        "Vous testerez cette algorithme sur les mêmes fonction que précédemment. \n",
        "\n",
        "La méthode (*mu*,*lambda*) est une généralisation de la méthode (1+1) vue précédemment (qu'on peut noter aussi (*mu*=1 + *lambda*=1). Etant donnée une population d'individus, il s'agit de prendre les *mu* meilleurs, puis de créer *lambda* enfants. Chaque enfant aura pour parent l'un des *mu* parents (sélectionné au hasard). La population à la génération suivante sera constituée uniquement des *lambda* enfants ainsi construits (contrairement à la méthode (*mu*+*lambda*) ou les *mu* parents sont aussi copiés vers la génération suivante). \n",
        "\n",
        "Vous tracerez l'évolution de la population pour chaque exécution. Vous étudierez l'impact du choix du point initial et du sigma. \n",
        "\n",
        "Vous prendrez pour commencer *mu*=5 et *lambda*=10. Comme point de départ, vous utiliserez une population initiale de *lambda* invididus générés au hasard (plutôt qu'un seul individu, comme c'était le cas précédemment).\n"
      ]
    },
    {
      "cell_type": "code",
      "metadata": {
        "id": "qjh_fqdwP60W"
      },
      "source": [
        "def launch_LambdaES(popInit, _mu, _lambda, sigma, nbeval=10000, display=True, ma_func=sphere):\n",
        "  # A compléter\n",
        "  return 0\n",
        "\n",
        "print (\"Terminé.\")"
      ],
      "execution_count": null,
      "outputs": []
    },
    {
      "cell_type": "markdown",
      "metadata": {
        "id": "aFuIP-G0S9Hp"
      },
      "source": [
        "_inclure ici quelques commentaires sur vos résultats_"
      ]
    },
    {
      "cell_type": "markdown",
      "metadata": {
        "id": "fjqqFG9dSDM2"
      },
      "source": [
        "---\n",
        "\n",
        "# Exercice A-4: stabilité des algorithmes d'optimisation stochastique\n",
        "\n",
        "Vous allez maintenant comparer l'aspect stochastique de ces algorithmes. Pour cela, observez le code ci-dessous, qui affiche le résultat de plusieurs exécutions du même algorithme de recherche aléatoire sous forme de violin graph. Utilisez la fonction Sphere, tester aussi avec la fonction Rastrigin. \n"
      ]
    },
    {
      "cell_type": "code",
      "metadata": {
        "id": "gHITTGqMSLxs"
      },
      "source": [
        "# fourni a titre d'exemple, ne pas modifier -- répondre dans la cellule suivante.\n",
        "\n",
        "resRandom1 = []\n",
        "resRandom2 = []\n",
        "\n",
        "evaluationBudget = 1000\n",
        "centerInit = [20]*16\n",
        "evalFunc = sphere\n",
        "\n",
        "for i in range(20):\n",
        "    resRandom1.append ( launch_random(centerInit,nbeval=evaluationBudget,display=False,ma_func=evalFunc) )\n",
        "    resRandom2.append ( launch_random(centerInit,nbeval=evaluationBudget,display=False,ma_func=evalFunc) )    \n",
        "    \n",
        "allResults = {\"Random1\":resRandom1,\"Random2\":resRandom2}\n",
        "\n",
        "plot_violin( allResults )\n",
        "\n",
        "print (\"Terminé.\")\n"
      ],
      "execution_count": null,
      "outputs": []
    },
    {
      "cell_type": "markdown",
      "metadata": {
        "id": "vNRkAs5TSpsD"
      },
      "source": [
        "Testez la robustesse des algorithmes (1+1)-ES simple et (1+1)-ES règle des 1/5e sur plusieurs exécutions sur ces deux fonctions. Vous pouvez ré-utiliser le code des cellules précédentes pour afficher le résultat de plusieurs exécutions de l'algorithme (ex.: 5 exécutions)."
      ]
    },
    {
      "cell_type": "code",
      "metadata": {
        "id": "FVbet1G3SlUL"
      },
      "source": [
        "# A compléter"
      ],
      "execution_count": null,
      "outputs": []
    },
    {
      "cell_type": "markdown",
      "metadata": {
        "id": "UCWB7xdLS5q_"
      },
      "source": [
        "_inclure ici quelques commentaires sur vos résultats_"
      ]
    },
    {
      "cell_type": "markdown",
      "metadata": {
        "id": "s4I-MzhqSZtr"
      },
      "source": [
        "# Exercice A-5: comparaison entre les algorithmes\n",
        "\n",
        " Vous allez maintenant comparer tous les algorithmes précédents en traçant les résultat sur une même figure. Sur la même figure, vous tracerez aussi les résultats de deux méthodes classiques d'optimisation: Nelder-Mead et Powell.  Vous pouvez tout écrire dans la cellule ci-dessous.\n",
        "\n",
        "_Remarque: Pour que les comparaisons soient équitables, il faut que les points de départ des optimisation \"classiques\" soient similaires. Vous pourrez éventuellement ajouter un diagramme représentant le nombre d'évaluation par méthode._"
      ]
    },
    {
      "cell_type": "code",
      "metadata": {
        "id": "iiICOPW9SxZo"
      },
      "source": [
        "def launch_nelder(center, nbeval=10000, display=False, ma_func=sphere):\n",
        "    nelder = minimize(ma_func, center, method='nelder-mead',options={'xtol': 1e-8, 'disp': display})\n",
        "    return nelder.fun\n",
        "\n",
        "def launch_powell(center, nbeval=10000, display=False, ma_func=sphere):\n",
        "    powell = minimize(ma_func, center, method='powell',options={'xtol': 1e-8, 'disp': display})\n",
        "    return powell.fun\n",
        "\n",
        "resOneplusone = []\n",
        "resRandom = []\n",
        "resOneFifthRule = []\n",
        "resNelder = []\n",
        "resPowell = []\n",
        "\n",
        "# A compléter\n",
        "\n",
        "print (\"Terminé.\")"
      ],
      "execution_count": null,
      "outputs": []
    },
    {
      "cell_type": "markdown",
      "metadata": {
        "id": "48D44TKyS6xN"
      },
      "source": [
        "_inclure ici quelques commentaires sur vos résultats_"
      ]
    },
    {
      "cell_type": "markdown",
      "metadata": {
        "id": "rhC0Si1sPuAE"
      },
      "source": [
        "---\n",
        "\n",
        "# Exercice A-6: algorithme CEM\n",
        "\n",
        "Nous allons maintenant implémenter l'algorithme Cross Entropy Method (CEM)\n",
        "\n",
        "Vous utiliserez pour cela l'algorithme tel qu'il a présenté en cours (cf. slides), et le pseudo-code disponible sur [wikipedia](https://fr.wikipedia.org/wiki/M%C3%A9thode_de_l%27entropie_crois%C3%A9e#Pseudo-code)\n",
        "\n",
        "Vous testerez cet algorithme sur les mêmes fonctions que précédemment. De même que précédemment, vous tracerez l'évolution de la population pour chaque exécution. \n",
        "\n",
        "Vous étudierez l'impact du choix du point initial et du sigma. Vous comparerez également la version complète avec la version pureCMA, qui n'inclut pas certains mécanismes comme le restart. "
      ]
    },
    {
      "cell_type": "code",
      "metadata": {
        "id": "QIfc_N7j4kye"
      },
      "source": [
        "def launch_CEM(center, sigma, nbeval=10000, display=True, ma_func=sphere):\n",
        "  # A compléter\n",
        "  return 0\n",
        "\n",
        "print (\"Terminé.\")"
      ],
      "execution_count": null,
      "outputs": []
    },
    {
      "cell_type": "markdown",
      "metadata": {
        "id": "cCZYOZH9S8GC"
      },
      "source": [
        "_inclure ici quelques commentaires sur vos résultats_"
      ]
    },
    {
      "cell_type": "markdown",
      "source": [
        "Reprenez l'exercice 5 pour ajouter CEM sur le graphe."
      ],
      "metadata": {
        "id": "v374L542pn7A"
      }
    },
    {
      "cell_type": "code",
      "source": [
        "def launch_nelder(center, nbeval=10000, display=False, ma_func=sphere):\n",
        "    nelder = minimize(ma_func, center, method='nelder-mead',options={'xtol': 1e-8, 'disp': display})\n",
        "    return nelder.fun\n",
        "\n",
        "def launch_powell(center, nbeval=10000, display=False, ma_func=sphere):\n",
        "    powell = minimize(ma_func, center, method='powell',options={'xtol': 1e-8, 'disp': display})\n",
        "    return powell.fun\n",
        "\n",
        "resCEM = []\n",
        "resOneplusone = []\n",
        "resRandom = []\n",
        "resOneFifthRule = []\n",
        "resNelder = []\n",
        "resPowell = []\n",
        "\n",
        "# A compléter\n",
        "\n",
        "print (\"Terminé.\")"
      ],
      "metadata": {
        "id": "UmQBo1URpndG"
      },
      "execution_count": null,
      "outputs": []
    },
    {
      "cell_type": "markdown",
      "source": [
        "_inclure ici quelques commentaires sur vos résultats_"
      ],
      "metadata": {
        "id": "Qqn6GU2Pp06A"
      }
    },
    {
      "cell_type": "markdown",
      "metadata": {
        "id": "hPSU2YTGUYwG"
      },
      "source": [
        "---\n",
        "---\n",
        "---\n",
        "\n",
        "# <font color='orange'>PARTIE B: optimisation d'un pendule inversé</font>\n",
        "\n",
        "OpenAI Gym (https://gym.openai.com/) est un framework permettant de lancer facilement des expériences d'apprentissage par renforcement. Nous allons l'utiliser pour tester les algorithmes évolutionnistes. Pour cet exercice, vous êtes laissé en autonomie: vous devez donc lire attentivement la documentation et les exemples."
      ]
    },
    {
      "cell_type": "markdown",
      "metadata": {
        "id": "K60N1A74wDUv"
      },
      "source": [
        "# Importation des librairies et définition des fonctions utiles pour la partie B\n",
        "\n",
        "Remarque: *Il est nécessaire d'exécuter ces cellules une seule fois. En cas de redémarrage du noyau, il faut relancer ces cellules. Il n'est pas nécessaire de regarder le code de ces cellules, elles servent seulement de soutien à la partie B.*"
      ]
    },
    {
      "cell_type": "code",
      "metadata": {
        "id": "ik-EzyMawxZ2",
        "colab": {
          "base_uri": "https://localhost:8080/"
        },
        "outputId": "bd386881-398f-400e-e61c-8a4e1ca14dab"
      },
      "source": [
        "# source: https://colab.research.google.com/drive/124koV4mf1tQ4av9jAJJuWsyuhJyLyd70#scrollTo=G9UWeToN4r7D\n",
        "\n",
        "#remove \" > /dev/null 2>&1\" to see what is going on under the hood\n",
        "!pip install pyvirtualdisplay > /dev/null 2>&1\n",
        "!apt-get install -y xvfb python-opengl ffmpeg > /dev/null 2>&1\n",
        "from pyvirtualdisplay import Display\n",
        "display = Display(visible=0, size=(1400, 900))\n",
        "display.start()\n",
        "\n",
        "!apt-get update > /dev/null 2>&1\n",
        "!apt-get install cmake > /dev/null 2>&1\n",
        "!pip install --upgrade setuptools 2>&1\n",
        "!pip install ez_setup > /dev/null 2>&1\n",
        "!pip install gym[atari] > /dev/null 2>&1\n",
        "\n",
        "from datetime import datetime\n",
        "from datetime import date\n",
        "\n",
        "from gym.wrappers import Monitor\n",
        "import base64\n",
        "import glob\n",
        "import io\n",
        "import base64\n",
        "from IPython.display import HTML\n",
        "from IPython import display as ipythondisplay\n",
        "\n",
        "import gym\n",
        "from gym import logger as gymlogger\n",
        "from gym.wrappers import Monitor\n",
        "gymlogger.set_level(40) #error only\n",
        "import tensorflow as tf\n",
        "import numpy as np\n",
        "import random\n",
        "import matplotlib\n",
        "import matplotlib.pyplot as plt\n",
        "%matplotlib inline\n",
        "import math\n",
        "import glob\n",
        "import io\n",
        "import base64\n",
        "from IPython.display import HTML\n",
        "\n",
        "print(\"\\n\",date.today(), datetime.now().strftime(\"%H:%M:%S\"),\"GMT\") # timestamp is greenwich time\n",
        "print(\"OK.\")"
      ],
      "execution_count": null,
      "outputs": [
        {
          "output_type": "stream",
          "name": "stdout",
          "text": [
            "Requirement already satisfied: setuptools in /usr/local/lib/python3.7/dist-packages (57.4.0)\n",
            "Collecting setuptools\n",
            "  Downloading setuptools-60.9.3-py3-none-any.whl (1.1 MB)\n",
            "\u001b[K     |████████████████████████████████| 1.1 MB 25.2 MB/s \n",
            "\u001b[?25hInstalling collected packages: setuptools\n",
            "  Attempting uninstall: setuptools\n",
            "    Found existing installation: setuptools 57.4.0\n",
            "    Uninstalling setuptools-57.4.0:\n",
            "      Successfully uninstalled setuptools-57.4.0\n",
            "\u001b[31mERROR: pip's dependency resolver does not currently take into account all the packages that are installed. This behaviour is the source of the following dependency conflicts.\n",
            "tensorflow 2.8.0 requires tf-estimator-nightly==2.8.0.dev2021122109, which is not installed.\n",
            "datascience 0.10.6 requires folium==0.2.1, but you have folium 0.8.3 which is incompatible.\u001b[0m\n",
            "Successfully installed setuptools-60.9.3\n"
          ]
        },
        {
          "output_type": "display_data",
          "data": {
            "application/vnd.colab-display-data+json": {
              "pip_warning": {
                "packages": [
                  "pkg_resources"
                ]
              }
            }
          },
          "metadata": {}
        },
        {
          "output_type": "stream",
          "name": "stdout",
          "text": [
            "\n",
            " 2022-03-10 13:06:41 GMT\n",
            "OK.\n"
          ]
        }
      ]
    },
    {
      "cell_type": "code",
      "metadata": {
        "id": "LHIWfZovrAez",
        "colab": {
          "base_uri": "https://localhost:8080/"
        },
        "outputId": "956a09cd-1100-4569-a395-4f743760342c"
      },
      "source": [
        "# source: https://colab.research.google.com/drive/124koV4mf1tQ4av9jAJJuWsyuhJyLyd70#scrollTo=G9UWeToN4r7D\n",
        "# modification mineur: ajout de l'argument loop dans la fonction show_video(loop=True)\n",
        "\n",
        "\"\"\"\n",
        "Utility functions to enable video recording of gym environment and displaying it\n",
        "To enable video, just do \"env = wrap_env(env)\"\"\n",
        "\"\"\"\n",
        "\n",
        "def show_video(loop=True):\n",
        "  mp4list = glob.glob('video/*.mp4')\n",
        "  if len(mp4list) > 0:\n",
        "    mp4 = mp4list[0]\n",
        "    video = io.open(mp4, 'r+b').read()\n",
        "    encoded = base64.b64encode(video)\n",
        "    if loop == True:\n",
        "      ipythondisplay.display(HTML(data='''<video alt=\"test\" autoplay \n",
        "                loop controls style=\"height: 400px;\">\n",
        "                <source src=\"data:video/mp4;base64,{0}\" type=\"video/mp4\" />\n",
        "             </video>'''.format(encoded.decode('ascii'))))\n",
        "    else:\n",
        "      ipythondisplay.display(HTML(data='''<video alt=\"test\" autoplay \n",
        "                controls style=\"height: 400px;\">\n",
        "                <source src=\"data:video/mp4;base64,{0}\" type=\"video/mp4\" />\n",
        "             </video>'''.format(encoded.decode('ascii'))))\n",
        "  else: \n",
        "    print(\"Could not find video\")\n",
        "    \n",
        "def wrap_env(env):\n",
        "  env = Monitor(env, './video', force=True)\n",
        "  return env\n",
        "\n",
        "print(\"\\n\",date.today(), datetime.now().strftime(\"%H:%M:%S\"),\"GMT\") # timestamp is greenwich time\n",
        "print(\"OK.\")"
      ],
      "execution_count": null,
      "outputs": [
        {
          "output_type": "stream",
          "name": "stdout",
          "text": [
            "\n",
            " 2022-03-10 13:06:41 GMT\n",
            "OK.\n"
          ]
        }
      ]
    },
    {
      "cell_type": "code",
      "metadata": {
        "id": "1-Zqq4womYhT",
        "colab": {
          "base_uri": "https://localhost:8080/"
        },
        "outputId": "53985f8d-8e49-48a6-a654-60510f14bb59"
      },
      "source": [
        "# A simple neural network object\n",
        "# source: https://github.com/AsmaBRZ/Evolutionary-algorithms/blob/master/fixed_structure_nn_numpy.py\n",
        "\n",
        "# coding: utf-8\n",
        "\n",
        "import numpy as np\n",
        "\n",
        "## Suppress TF info messages\n",
        "\n",
        "import os\n",
        "\n",
        "def sigmoid(x):\n",
        "    return 1./(1 + np.exp(-x))\n",
        "\n",
        "def tanh(x):\n",
        "    return np.tanh(x)\n",
        "\n",
        "\n",
        "def gen_simplemlp(n_in, n_out, n_hidden_layers=2, n_neurons_per_hidden=5):\n",
        "    n_neurons = [n_neurons_per_hidden]*n_hidden_layers if np.isscalar(n_neurons_per_hidden) else n_neurons_per_hidden\n",
        "    i = Input(shape=(n_in,))\n",
        "    x = i\n",
        "    for n in n_neurons:\n",
        "        x = Dense(n, activation='sigmoid')(x)\n",
        "    o = Dense(n_out, activation='tanh')(x)\n",
        "    m = Model(inputs=i, outputs=o)\n",
        "    return m\n",
        "    \n",
        "\n",
        "class SimpleNeuralControllerNumpy():\n",
        "    def __init__(self, n_in, n_out, n_hidden_layers=2, n_neurons_per_hidden=5, params=None):\n",
        "        self.dim_in = n_in\n",
        "        self.dim_out = n_out\n",
        "        # if params is provided, we look for the number of hidden layers and neuron per layer into that parameter (a dicttionary)\n",
        "        if (not params==None):\n",
        "            if (\"n_hidden_layers\" in params.keys()):\n",
        "                n_hidden_layers=params[\"n_hidden_layers\"]\n",
        "            if (\"n_neurons_per_hidden\" in params.keys()):\n",
        "                n_neurons_per_hidden=params[\"n_neurons_per_hidden\"]\n",
        "        self.n_per_hidden = n_neurons_per_hidden\n",
        "        self.n_hidden_layers = n_hidden_layers\n",
        "        self.weights = None \n",
        "        self.n_weights = None\n",
        "        self.init_random_params()\n",
        "        self.out = np.zeros(n_out)\n",
        "        #print(\"Creating a simple mlp with %d inputs, %d outputs, %d hidden layers and %d neurons per layer\"%(n_in, n_out,n_hidden_layers, n_neurons_per_hidden))\n",
        "\n",
        "    \n",
        "    def init_random_params(self):\n",
        "        if(self.n_hidden_layers > 0):\n",
        "            self.weights = [np.random.random((self.dim_in,self.n_per_hidden))] # In -> first hidden\n",
        "            self.bias = [np.random.random(self.n_per_hidden)] # In -> first hidden\n",
        "            for i in range(self.n_hidden_layers-1): # Hidden -> hidden\n",
        "                self.weights.append(np.random.random((self.n_per_hidden,self.n_per_hidden)))\n",
        "                self.bias.append(np.random.random(self.n_per_hidden))\n",
        "            self.weights.append(np.random.random((self.n_per_hidden,self.dim_out))) # -> last hidden -> out\n",
        "            self.bias.append(np.random.random(self.dim_out))\n",
        "        else:\n",
        "            self.weights = [np.random.random((self.dim_in,self.dim_out))] # Single-layer perceptron\n",
        "            self.bias = [np.random.random(self.dim_out)]\n",
        "        self.n_weights = np.sum([np.product(w.shape) for w in self.weights]) + np.sum([np.product(b.shape) for b in self.bias])\n",
        "\n",
        "    def get_parameters(self):\n",
        "        \"\"\"\n",
        "        Returns all network parameters as a single array\n",
        "        \"\"\"\n",
        "        flat_weights = np.hstack([arr.flatten() for arr in (self.weights+self.bias)])\n",
        "        return flat_weights\n",
        "\n",
        "    def set_parameters(self, flat_parameters):\n",
        "        \"\"\"\n",
        "        Set all network parameters from a single array\n",
        "        \"\"\"\n",
        "        i = 0 # index\n",
        "        to_set = []\n",
        "        self.weights = list()\n",
        "        self.bias = list()\n",
        "        if(self.n_hidden_layers > 0):\n",
        "            # In -> first hidden\n",
        "            w0 = np.array(flat_parameters[i:(i+self.dim_in*self.n_per_hidden)])\n",
        "            self.weights.append(w0.reshape(self.dim_in,self.n_per_hidden))\n",
        "            i += self.dim_in*self.n_per_hidden\n",
        "            for l in range(self.n_hidden_layers-1): # Hidden -> hidden\n",
        "                w = np.array(flat_parameters[i:(i+self.n_per_hidden*self.n_per_hidden)])\n",
        "                self.weights.append(w.reshape((self.n_per_hidden,self.n_per_hidden)))\n",
        "                i += self.n_per_hidden*self.n_per_hidden\n",
        "            # -> last hidden -> out\n",
        "            wN = np.array(flat_parameters[i:(i+self.n_per_hidden*self.dim_out)])\n",
        "            self.weights.append(wN.reshape((self.n_per_hidden,self.dim_out)))\n",
        "            i += self.n_per_hidden*self.dim_out\n",
        "            # Samefor bias now\n",
        "            # In -> first hidden\n",
        "            b0 = np.array(flat_parameters[i:(i+self.n_per_hidden)])\n",
        "            self.bias.append(b0)\n",
        "            i += self.n_per_hidden\n",
        "            for l in range(self.n_hidden_layers-1): # Hidden -> hidden\n",
        "                b = np.array(flat_parameters[i:(i+self.n_per_hidden)])\n",
        "                self.bias.append(b)\n",
        "                i += self.n_per_hidden\n",
        "            # -> last hidden -> out\n",
        "            bN = np.array(flat_parameters[i:(i+self.dim_out)])\n",
        "            self.bias.append(bN)\n",
        "            i += self.dim_out\n",
        "        else:\n",
        "            n_w = self.dim_in*self.dim_out\n",
        "            w = np.array(flat_parameters[:n_w])\n",
        "            self.weights = [w.reshape((self.dim_in,self.dim_out))]\n",
        "            self.bias = [np.array(flat_parameters[n_w:])]\n",
        "        self.n_weights = np.sum([np.product(w.shape) for w in self.weights]) + np.sum([np.product(b.shape) for b in self.bias])\n",
        "    \n",
        "    def predict(self,x):\n",
        "        \"\"\"\n",
        "        Propagate\n",
        "        \"\"\"\n",
        "        if(self.n_hidden_layers > 0):\n",
        "            #Input\n",
        "            a = np.matmul(x,self.weights[0]) + self.bias[0]\n",
        "            y = sigmoid(a)\n",
        "            # hidden -> hidden\n",
        "            for i in range(1,self.n_hidden_layers-1):\n",
        "                a = np.matmul(y, self.weights[i]) + self.bias[i]\n",
        "                y = sigmoid(a)\n",
        "            # Out\n",
        "            a = np.matmul(y, self.weights[-1]) + self.bias[-1]\n",
        "            out = tanh(a)\n",
        "            return out\n",
        "        else: # Simple monolayer perceptron\n",
        "            return tanh(np.matmul(x,self.weights[0]) + self.bias[0])\n",
        "\n",
        "    def __call__(self,x):\n",
        "        \"\"\"Calling the controller calls predict\"\"\"\n",
        "        return self.predict(x)\n",
        "\n",
        "print(\"\\n\",date.today(), datetime.now().strftime(\"%H:%M:%S\"),\"GMT\") # timestamp is greenwich time\n",
        "print(\"OK.\")"
      ],
      "execution_count": null,
      "outputs": [
        {
          "output_type": "stream",
          "name": "stdout",
          "text": [
            "\n",
            " 2022-03-10 13:06:41 GMT\n",
            "OK.\n"
          ]
        }
      ]
    },
    {
      "cell_type": "markdown",
      "metadata": {
        "id": "Z5FwAPLuUsHJ"
      },
      "source": [
        "---\n",
        "\n",
        "# Question B-0: simulation du pendule inversé\n",
        "\n",
        "Le code ci-dessous montre comment lancer la simulation d'un pendule inversé en utilisant OpenAI Gym. Etudiez-le et exécutez-le.\n",
        "\n"
      ]
    },
    {
      "cell_type": "code",
      "metadata": {
        "id": "sD5G3mbwS7RV"
      },
      "source": [
        "import gym\n",
        "#env = gym.make('CartPole-v1')\n",
        "env = wrap_env( gym.make('CartPole-v1') ) # colab-specific\n",
        "observation = env.reset()\n",
        "\n",
        "#for _ in range(1000):\n",
        "#while True:\n",
        "maxEvaluations = 10\n",
        "evaluation = 0\n",
        "while evaluation < maxEvaluations:\n",
        "    env.render()\n",
        "    action = env.action_space.sample() \n",
        "    observation, reward, done, info = env.step(action) \n",
        "\n",
        "    if done:\n",
        "      evaluation = evaluation + 1\n",
        "      observation = env.reset()\n",
        "      print (\"obs:\",observation,type(observation),observation.shape)\n",
        "      #show_video(False) # colab-specific\n",
        "\n",
        "env.close()\n",
        "\n",
        "show_video() # colab-specific"
      ],
      "execution_count": null,
      "outputs": []
    },
    {
      "cell_type": "markdown",
      "metadata": {
        "id": "nvHyxKqSmJ1q"
      },
      "source": [
        "# Question B-1\n",
        "\n",
        "En partant de l'exemple de la documentation et du code fourni pour le réseau de neurones dans la première cellule ci-dessous, faites une expérience pour optimiser les paramètres d'un réseau de neurones contrôlant un pendule inversé (environnement 'CartPole-v1') avec CMA-ES. Imposez une limite à 500 pas de temps au-delà de laquelle l'expérience est considérée comme réussie. "
      ]
    },
    {
      "cell_type": "code",
      "metadata": {
        "id": "_vzzYyLqmlq9"
      },
      "source": [
        "# Exemple de création d'un réseau de neurones multi-couches (\"multi-layered perceptron\")\n",
        "\n",
        "nbInputs = 4\n",
        "nbOutputs = 1\n",
        "nbHiddenLayers = 2\n",
        "nbNeuronsPerLayer = 5\n",
        "\n",
        "nn=SimpleNeuralControllerNumpy(nbInputs,nbOutputs,nbHiddenLayers,nbNeuronsPerLayer) \n",
        "\n",
        "# NN parameters\n",
        "\n",
        "theta = nn.get_parameters() # get default parameters\n",
        "for i in range(len(theta)):\n",
        "  theta[i] = random.random()*2.0-1.0 # set our own parameter values\n",
        "nn.set_parameters(theta)\n",
        "print (\"NN parameters:\",theta)\n",
        "\n",
        "# running NN\n",
        "\n",
        "observation = np.array( [ -0.03760372,0.00724161,-0.03663132,0.01225319 ], np.float64 )\n",
        "\n",
        "print (\"Input values:\", observation)\n",
        "\n",
        "outputValues = nn.predict(observation)\n",
        "\n",
        "print (\"Output values:\", outputValues)\n"
      ],
      "execution_count": null,
      "outputs": []
    },
    {
      "cell_type": "code",
      "metadata": {
        "id": "k0_BkSmAvSx4"
      },
      "source": [
        "# A compléter "
      ],
      "execution_count": null,
      "outputs": []
    },
    {
      "cell_type": "markdown",
      "metadata": {
        "id": "pEIHA-zvnQ9y"
      },
      "source": [
        "_inclure ici quelques commentaires sur vos résultats_"
      ]
    },
    {
      "cell_type": "markdown",
      "metadata": {
        "id": "vnRDYKVxmorQ"
      },
      "source": [
        "--- \n",
        "\n",
        "# Question B-2\n",
        "\n",
        "Re-calculez plusieurs fois la fitness du meilleur contrôleur généré. Visualisez les comportements correspondants. Que constatez-vous ? Quel est le problème ? Proposez une solution pour le résoudre."
      ]
    },
    {
      "cell_type": "code",
      "metadata": {
        "id": "hqgtAMdGmum9"
      },
      "source": [
        "# A compléter"
      ],
      "execution_count": null,
      "outputs": []
    },
    {
      "cell_type": "markdown",
      "metadata": {
        "id": "9mCr75NcnOPl"
      },
      "source": [
        "_inclure ici quelques commentaires sur vos résultats_"
      ]
    },
    {
      "cell_type": "markdown",
      "metadata": {
        "id": "GcBAh_X1myTn"
      },
      "source": [
        "---\n",
        "---\n",
        "---\n",
        "\n",
        "# <font color='orange'>PARTIE C: exercices bonus</font>\n",
        "\n",
        "Si vous avez fini tout le reste... A faire en complète autonomie.\n"
      ]
    },
    {
      "cell_type": "markdown",
      "metadata": {
        "id": "srCsBI-JxQGn"
      },
      "source": [
        "# Question C-1: \n",
        "\n",
        "A partir de l'implémentation (1+lambda)-ES, implémenter (1) un algorithme (1,lambda)-ES, puis (mu+lambda)-ES et (mu,lambda)-ES. Etudiez l'influence des valeurs de mu et lambda.\n"
      ]
    },
    {
      "cell_type": "code",
      "metadata": {
        "id": "DzvX3VEDnArX"
      },
      "source": [
        "# A compléter"
      ],
      "execution_count": null,
      "outputs": []
    },
    {
      "cell_type": "markdown",
      "source": [
        "# Question C-2: \n",
        "\n",
        "Implémentez l'algorithme CEM (Cross-Entropy Method) vu en cours. Comparez avec les algorithmes précédents, y compris CMA-ES."
      ],
      "metadata": {
        "id": "_dgQAUmDhnB8"
      }
    },
    {
      "cell_type": "code",
      "source": [
        "# A compléter"
      ],
      "metadata": {
        "id": "XzQuZ64JhzZZ"
      },
      "execution_count": null,
      "outputs": []
    },
    {
      "cell_type": "markdown",
      "metadata": {
        "id": "CNVmoKWjxWL9"
      },
      "source": [
        "# Question C-3:\n",
        "\n",
        "A partir de l'expérience du pendule inversé, faites le même genre d'expériences avec d'autres environnement proposé dans OpenAI gym, par exemple le BipedalWalker (attention, le temps nécessaire pour l'optimisation peut rapidement devenir très long)\n"
      ]
    },
    {
      "cell_type": "code",
      "metadata": {
        "id": "QYHkH9ZPvWW7"
      },
      "source": [
        "# A compléter"
      ],
      "execution_count": null,
      "outputs": []
    },
    {
      "cell_type": "markdown",
      "metadata": {
        "id": "jQWj2OvMxqYf"
      },
      "source": [
        "*Fin du sujet.*\n"
      ]
    }
  ]
}